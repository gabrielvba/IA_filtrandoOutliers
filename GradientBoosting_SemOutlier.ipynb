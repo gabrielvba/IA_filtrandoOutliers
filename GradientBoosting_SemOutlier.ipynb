{
 "cells": [
  {
   "cell_type": "code",
   "execution_count": 2,
   "metadata": {},
   "outputs": [
    {
     "name": "stderr",
     "output_type": "stream",
     "text": [
      "C:\\Users\\gabri\\Anaconda3\\lib\\site-packages\\sklearn\\ensemble\\weight_boosting.py:29: DeprecationWarning: numpy.core.umath_tests is an internal NumPy module and should not be imported. It will be removed in a future NumPy release.\n",
      "  from numpy.core.umath_tests import inner1d\n"
     ]
    }
   ],
   "source": [
    "from preparingData import preparing_data # read data\n",
    "from sklearn import preprocessing\n",
    "from sklearn.model_selection import train_test_split\n",
    "from math import sqrt # RMSE\n",
    "from sklearn.metrics import mean_squared_error # error metric\n",
    "from sklearn.model_selection import cross_val_score, cross_val_predict\n",
    "import matplotlib.pyplot as plt\n",
    "from sklearn.model_selection import KFold # import KFold\n",
    "import numpy as np\n",
    "# model\n",
    "from sklearn.ensemble import GradientBoostingRegressor\n"
   ]
  },
  {
   "cell_type": "code",
   "execution_count": 3,
   "metadata": {},
   "outputs": [],
   "source": [
    "X,y=preparing_data()\n",
    "X_scaled = preprocessing.scale(X)\n",
    "X_train, X_test, y_train, y_test = train_test_split(X_scaled, y, test_size=0.2, random_state=42)"
   ]
  },
  {
   "cell_type": "code",
   "execution_count": 6,
   "metadata": {
    "scrolled": true
   },
   "outputs": [],
   "source": [
    "def rmse(model, y, x):\n",
    "    return sqrt(mean_squared_error(y, model.predict(x)))"
   ]
  },
  {
   "cell_type": "code",
   "execution_count": 7,
   "metadata": {},
   "outputs": [],
   "source": [
    "est = GradientBoostingRegressor(n_estimators=100, learning_rate=0.1, max_depth=1, random_state=0, loss='ls')\n",
    "est.fit(X_train, y_train)\n",
    "predictions = est.predict(X_test)"
   ]
  },
  {
   "cell_type": "code",
   "execution_count": 8,
   "metadata": {},
   "outputs": [
    {
     "data": {
      "text/plain": [
       "[27900,\n",
       " 7494,\n",
       " 34850,\n",
       " 22974,\n",
       " 30349,\n",
       " 17497,\n",
       " 19500,\n",
       " 26967,\n",
       " 30987,\n",
       " 23257,\n",
       " 8488,\n",
       " 34996,\n",
       " 21495,\n",
       " 37987,\n",
       " 9896,\n",
       " 20811,\n",
       " 6788,\n",
       " 9998,\n",
       " 30487,\n",
       " 13750,\n",
       " 31999,\n",
       " 23799,\n",
       " 18900,\n",
       " 9747,\n",
       " 16988,\n",
       " 17986,\n",
       " 26991,\n",
       " 16966,\n",
       " 15988,\n",
       " 19989,\n",
       " 20995,\n",
       " 21488,\n",
       " 11942,\n",
       " 31804,\n",
       " 6900,\n",
       " 26730,\n",
       " 12049,\n",
       " 11599,\n",
       " 17728,\n",
       " 10250,\n",
       " 14950,\n",
       " 8295,\n",
       " 21492,\n",
       " 19988,\n",
       " 12995,\n",
       " 19000,\n",
       " 47375,\n",
       " 12999,\n",
       " 9989,\n",
       " 6900]"
      ]
     },
     "execution_count": 8,
     "metadata": {},
     "output_type": "execute_result"
    }
   ],
   "source": [
    "y_test[152094:152144].tolist()"
   ]
  },
  {
   "cell_type": "code",
   "execution_count": 9,
   "metadata": {},
   "outputs": [
    {
     "data": {
      "text/plain": [
       "[27543.060659306273,\n",
       " 14974.940968069439,\n",
       " 25623.526715555803,\n",
       " 22446.058916814738,\n",
       " 24067.486677801047,\n",
       " 20764.809452539906,\n",
       " 24820.394073608262,\n",
       " 26288.12966923007,\n",
       " 28156.929266324078,\n",
       " 24174.50900424194,\n",
       " 15053.526743001441,\n",
       " 25494.537551041474,\n",
       " 22662.891731501142,\n",
       " 23519.458241322343,\n",
       " 17392.067503795974,\n",
       " 20040.42352889347,\n",
       " 11891.669192329435,\n",
       " 13982.381172984551,\n",
       " 23324.612986453936,\n",
       " 22147.182309301803,\n",
       " 15429.08393997625,\n",
       " 20722.147088368903,\n",
       " 18546.94877468263,\n",
       " 13631.674911381375,\n",
       " 25477.00614404635,\n",
       " 19938.850978240145,\n",
       " 19834.459373078418,\n",
       " 12882.90518661907,\n",
       " 21318.818900379803,\n",
       " 24292.985147401298,\n",
       " 21078.879615286143,\n",
       " 22057.251133655664,\n",
       " 21230.90978883468,\n",
       " 25914.42160239568,\n",
       " 13345.312025653115,\n",
       " 21121.005930695144,\n",
       " 14476.697311836813,\n",
       " 12740.888466628605,\n",
       " 21121.005930695144,\n",
       " 22309.844536159308,\n",
       " 13260.722015612597,\n",
       " 13345.312025653115,\n",
       " 20495.15245508637,\n",
       " 20577.474760961042,\n",
       " 11934.28712133077,\n",
       " 23665.679245975283,\n",
       " 27917.58477008255,\n",
       " 15193.10597681763,\n",
       " 21435.686326999206,\n",
       " 12719.064216674973]"
      ]
     },
     "execution_count": 9,
     "metadata": {},
     "output_type": "execute_result"
    }
   ],
   "source": [
    "predictions[152094:152144].tolist()"
   ]
  },
  {
   "cell_type": "code",
   "execution_count": 10,
   "metadata": {},
   "outputs": [
    {
     "data": {
      "text/plain": [
       "7561.369734384837"
      ]
     },
     "execution_count": 10,
     "metadata": {},
     "output_type": "execute_result"
    }
   ],
   "source": [
    "rmse(est, y_train, X_train)"
   ]
  },
  {
   "cell_type": "code",
   "execution_count": 11,
   "metadata": {},
   "outputs": [
    {
     "data": {
      "text/plain": [
       "7564.564281280412"
      ]
     },
     "execution_count": 11,
     "metadata": {},
     "output_type": "execute_result"
    }
   ],
   "source": [
    "rmse(est, y_test, X_test)"
   ]
  },
  {
   "cell_type": "code",
   "execution_count": 12,
   "metadata": {},
   "outputs": [
    {
     "name": "stdout",
     "output_type": "stream",
     "text": [
      "KFold(n_splits=10, random_state=None, shuffle=False)\n"
     ]
    }
   ],
   "source": [
    "kf = KFold(n_splits=10) # Define the split - into 5 folds \n",
    "kf.get_n_splits(X_scaled) # returns the number of splitting iterations in the cross-validator\n",
    "KFold(n_splits=10, random_state=None, shuffle=False)\n",
    "print(kf) "
   ]
  },
  {
   "cell_type": "code",
   "execution_count": 13,
   "metadata": {},
   "outputs": [],
   "source": [
    "list_rmse_train = []\n",
    "list_rmse_test = []\n",
    "scores_train = []\n",
    "for train_index, test_index in kf.split(X):\n",
    "    X_train, X_test = X.iloc[train_index], X.iloc[test_index]\n",
    "    y_train, y_test = y.iloc[train_index], y.iloc[test_index]\n",
    "    est = GradientBoostingRegressor(n_estimators=100, learning_rate=0.1, max_depth=1, random_state=0, loss='ls')\n",
    "    est.fit(X_train, y_train)\n",
    "    list_rmse_train.append(rmse(est, y_train, X_train))\n",
    "    list_rmse_test.append(rmse(est, y_test, X_test))\n",
    "\n",
    "    "
   ]
  },
  {
   "cell_type": "code",
   "execution_count": 14,
   "metadata": {},
   "outputs": [
    {
     "data": {
      "text/plain": [
       "103.25348068240042"
      ]
     },
     "execution_count": 14,
     "metadata": {},
     "output_type": "execute_result"
    }
   ],
   "source": [
    "np.std(list_rmse_train)"
   ]
  },
  {
   "cell_type": "code",
   "execution_count": 15,
   "metadata": {},
   "outputs": [
    {
     "data": {
      "text/plain": [
       "747.8065061250217"
      ]
     },
     "execution_count": 15,
     "metadata": {},
     "output_type": "execute_result"
    }
   ],
   "source": [
    "np.std(list_rmse_test)"
   ]
  },
  {
   "cell_type": "code",
   "execution_count": 16,
   "metadata": {},
   "outputs": [
    {
     "data": {
      "text/plain": [
       "7504.78319312853"
      ]
     },
     "execution_count": 16,
     "metadata": {},
     "output_type": "execute_result"
    }
   ],
   "source": [
    "np.mean(list_rmse_train)"
   ]
  },
  {
   "cell_type": "code",
   "execution_count": 17,
   "metadata": {},
   "outputs": [
    {
     "data": {
      "text/plain": [
       "8549.046358380567"
      ]
     },
     "execution_count": 17,
     "metadata": {},
     "output_type": "execute_result"
    }
   ],
   "source": [
    "np.mean(list_rmse_test)"
   ]
  }
 ],
 "metadata": {
  "kernelspec": {
   "display_name": "Python 3",
   "language": "python",
   "name": "python3"
  },
  "language_info": {
   "codemirror_mode": {
    "name": "ipython",
    "version": 3
   },
   "file_extension": ".py",
   "mimetype": "text/x-python",
   "name": "python",
   "nbconvert_exporter": "python",
   "pygments_lexer": "ipython3",
   "version": "3.7.0"
  }
 },
 "nbformat": 4,
 "nbformat_minor": 2
}
