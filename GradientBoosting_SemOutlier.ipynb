{
 "cells": [
  {
   "cell_type": "code",
   "execution_count": 1,
   "metadata": {},
   "outputs": [
    {
     "name": "stderr",
     "output_type": "stream",
     "text": [
      "C:\\Users\\gabri\\Anaconda3\\lib\\site-packages\\sklearn\\ensemble\\weight_boosting.py:29: DeprecationWarning: numpy.core.umath_tests is an internal NumPy module and should not be imported. It will be removed in a future NumPy release.\n",
      "  from numpy.core.umath_tests import inner1d\n"
     ]
    }
   ],
   "source": [
    "from preparingData import preparing_data # read data\n",
    "from sklearn import preprocessing\n",
    "from sklearn.model_selection import train_test_split\n",
    "from math import sqrt # RMSE\n",
    "from sklearn.metrics import mean_squared_error # error metric\n",
    "from sklearn.model_selection import cross_val_score, cross_val_predict\n",
    "import matplotlib.pyplot as plt\n",
    "from sklearn.model_selection import KFold # import KFold\n",
    "import numpy as np\n",
    "# model\n",
    "from sklearn.ensemble import GradientBoostingRegressor\n"
   ]
  },
  {
   "cell_type": "code",
   "execution_count": 27,
   "metadata": {},
   "outputs": [
    {
     "data": {
      "text/html": [
       "<div>\n",
       "<style scoped>\n",
       "    .dataframe tbody tr th:only-of-type {\n",
       "        vertical-align: middle;\n",
       "    }\n",
       "\n",
       "    .dataframe tbody tr th {\n",
       "        vertical-align: top;\n",
       "    }\n",
       "\n",
       "    .dataframe thead th {\n",
       "        text-align: right;\n",
       "    }\n",
       "</style>\n",
       "<table border=\"1\" class=\"dataframe\">\n",
       "  <thead>\n",
       "    <tr style=\"text-align: right;\">\n",
       "      <th></th>\n",
       "      <th>Year</th>\n",
       "      <th>Mileage</th>\n",
       "      <th>Make</th>\n",
       "      <th>Model</th>\n",
       "    </tr>\n",
       "  </thead>\n",
       "  <tbody>\n",
       "    <tr>\n",
       "      <th>0</th>\n",
       "      <td>2015</td>\n",
       "      <td>40131</td>\n",
       "      <td>0</td>\n",
       "      <td>930</td>\n",
       "    </tr>\n",
       "    <tr>\n",
       "      <th>1</th>\n",
       "      <td>2013</td>\n",
       "      <td>63887</td>\n",
       "      <td>0</td>\n",
       "      <td>931</td>\n",
       "    </tr>\n",
       "    <tr>\n",
       "      <th>2</th>\n",
       "      <td>2013</td>\n",
       "      <td>111751</td>\n",
       "      <td>0</td>\n",
       "      <td>931</td>\n",
       "    </tr>\n",
       "    <tr>\n",
       "      <th>3</th>\n",
       "      <td>2013</td>\n",
       "      <td>19606</td>\n",
       "      <td>0</td>\n",
       "      <td>931</td>\n",
       "    </tr>\n",
       "    <tr>\n",
       "      <th>4</th>\n",
       "      <td>2014</td>\n",
       "      <td>39922</td>\n",
       "      <td>0</td>\n",
       "      <td>931</td>\n",
       "    </tr>\n",
       "  </tbody>\n",
       "</table>\n",
       "</div>"
      ],
      "text/plain": [
       "   Year  Mileage  Make  Model\n",
       "0  2015    40131     0    930\n",
       "1  2013    63887     0    931\n",
       "2  2013   111751     0    931\n",
       "3  2013    19606     0    931\n",
       "4  2014    39922     0    931"
      ]
     },
     "execution_count": 27,
     "metadata": {},
     "output_type": "execute_result"
    }
   ],
   "source": [
    "X,y=preparing_data()\n",
    "X.head()"
   ]
  },
  {
   "cell_type": "code",
   "execution_count": 3,
   "metadata": {},
   "outputs": [],
   "source": [
    "X_scaled = preprocessing.scale(X)\n",
    "X_train, X_test, y_train, y_test = train_test_split(X_scaled, y, test_size=0.2, random_state=50)"
   ]
  },
  {
   "cell_type": "code",
   "execution_count": 4,
   "metadata": {
    "scrolled": true
   },
   "outputs": [],
   "source": [
    "def rmse(model, y, x):\n",
    "    return sqrt(mean_squared_error(y, model.predict(x)))"
   ]
  },
  {
   "cell_type": "code",
   "execution_count": 5,
   "metadata": {},
   "outputs": [],
   "source": [
    "est = GradientBoostingRegressor(n_estimators=100, learning_rate=0.1, max_depth=1, random_state=0, loss='ls')\n",
    "est.fit(X_train, y_train)\n",
    "predictions = est.predict(X_test)"
   ]
  },
  {
   "cell_type": "code",
   "execution_count": 6,
   "metadata": {},
   "outputs": [
    {
     "data": {
      "text/plain": [
       "[24997,\n",
       " 31799,\n",
       " 11194,\n",
       " 15750,\n",
       " 39177,\n",
       " 28994,\n",
       " 8977,\n",
       " 11398,\n",
       " 25900,\n",
       " 12491,\n",
       " 19900,\n",
       " 9789,\n",
       " 12988,\n",
       " 35673,\n",
       " 33599,\n",
       " 14000,\n",
       " 47877,\n",
       " 11995,\n",
       " 16699,\n",
       " 22500,\n",
       " 11000,\n",
       " 11596,\n",
       " 28543,\n",
       " 13285,\n",
       " 16977,\n",
       " 16991,\n",
       " 24055,\n",
       " 14508,\n",
       " 29999,\n",
       " 19811,\n",
       " 12599,\n",
       " 24900,\n",
       " 15999,\n",
       " 27998,\n",
       " 16577,\n",
       " 18126,\n",
       " 11444,\n",
       " 19977,\n",
       " 7890,\n",
       " 8999,\n",
       " 15895,\n",
       " 26180,\n",
       " 25500,\n",
       " 21250,\n",
       " 18955,\n",
       " 26995,\n",
       " 10293,\n",
       " 13500,\n",
       " 9850,\n",
       " 20990]"
      ]
     },
     "execution_count": 6,
     "metadata": {},
     "output_type": "execute_result"
    }
   ],
   "source": [
    "y_test[152094:152144].tolist()"
   ]
  },
  {
   "cell_type": "code",
   "execution_count": 7,
   "metadata": {},
   "outputs": [
    {
     "data": {
      "text/plain": [
       "[21320.240913351416,\n",
       " 26597.177212415914,\n",
       " 15831.544498501386,\n",
       " 21066.617861823306,\n",
       " 27290.07267770352,\n",
       " 19510.557848336644,\n",
       " 14511.995246607567,\n",
       " 17949.18382278051,\n",
       " 28748.72059035787,\n",
       " 19731.01779211078,\n",
       " 24579.812800175525,\n",
       " 21404.827292725393,\n",
       " 16193.158676203388,\n",
       " 20735.53672973406,\n",
       " 21789.24957715296,\n",
       " 17477.886980870444,\n",
       " 22197.85845191269,\n",
       " 15080.114659390822,\n",
       " 18987.064219078613,\n",
       " 19475.57199571608,\n",
       " 18530.192443731237,\n",
       " 21404.827292725393,\n",
       " 22420.20442741605,\n",
       " 20756.318296134585,\n",
       " 16221.763489273559,\n",
       " 12918.824654439271,\n",
       " 24333.35172919966,\n",
       " 23068.713424006866,\n",
       " 20304.863778660758,\n",
       " 20076.211183207753,\n",
       " 14777.107359695874,\n",
       " 25729.551513362112,\n",
       " 21191.430168076273,\n",
       " 20116.519558773187,\n",
       " 18361.107685336934,\n",
       " 22304.877755578327,\n",
       " 18333.711613675023,\n",
       " 23942.161408018423,\n",
       " 11603.366386025458,\n",
       " 11616.28056566101,\n",
       " 23193.73647376742,\n",
       " 16240.92022977627,\n",
       " 25255.677277710838,\n",
       " 20346.286764102326,\n",
       " 22710.944970058736,\n",
       " 17564.761538352945,\n",
       " 20013.17254617636,\n",
       " 20022.961282386306,\n",
       " 16464.79802428831,\n",
       " 16132.652831502786]"
      ]
     },
     "execution_count": 7,
     "metadata": {},
     "output_type": "execute_result"
    }
   ],
   "source": [
    "predictions[152094:152144].tolist()"
   ]
  },
  {
   "cell_type": "code",
   "execution_count": 8,
   "metadata": {},
   "outputs": [
    {
     "data": {
      "text/plain": [
       "7562.381228759337"
      ]
     },
     "execution_count": 8,
     "metadata": {},
     "output_type": "execute_result"
    }
   ],
   "source": [
    "rmse(est, y_train, X_train)"
   ]
  },
  {
   "cell_type": "code",
   "execution_count": 9,
   "metadata": {},
   "outputs": [
    {
     "data": {
      "text/plain": [
       "7559.579780074348"
      ]
     },
     "execution_count": 9,
     "metadata": {},
     "output_type": "execute_result"
    }
   ],
   "source": [
    "rmse(est, y_test, X_test)"
   ]
  },
  {
   "cell_type": "code",
   "execution_count": 10,
   "metadata": {},
   "outputs": [
    {
     "name": "stdout",
     "output_type": "stream",
     "text": [
      "KFold(n_splits=10, random_state=None, shuffle=False)\n"
     ]
    }
   ],
   "source": [
    "kf = KFold(n_splits=10) # Define the split - into 5 folds \n",
    "kf.get_n_splits(X_scaled) # returns the number of splitting iterations in the cross-validator\n",
    "KFold(n_splits=10, random_state=None, shuffle=False)\n",
    "print(kf) "
   ]
  },
  {
   "cell_type": "code",
   "execution_count": 21,
   "metadata": {},
   "outputs": [],
   "source": [
    "list_rmse_train = []\n",
    "list_rmse_test = []\n",
    "scores_train = []\n",
    "for train_index, test_index in kf.split(X):\n",
    "    X_train, X_test = X.iloc[train_index], X.iloc[test_index]\n",
    "    y_train, y_test = y.iloc[train_index], y.iloc[test_index]\n",
    "    est = GradientBoostingRegressor(n_estimators=100, learning_rate=0.1, max_depth=3, random_state=0, loss='ls')\n",
    "    est.fit(X_train, y_train)\n",
    "    list_rmse_train.append(rmse(est, y_train, X_train))\n",
    "    list_rmse_test.append(rmse(est, y_test, X_test))\n",
    "\n",
    "    "
   ]
  },
  {
   "cell_type": "code",
   "execution_count": 22,
   "metadata": {},
   "outputs": [
    {
     "data": {
      "text/plain": [
       "71.70422913492617"
      ]
     },
     "execution_count": 22,
     "metadata": {},
     "output_type": "execute_result"
    }
   ],
   "source": [
    "np.std(list_rmse_train)"
   ]
  },
  {
   "cell_type": "code",
   "execution_count": 23,
   "metadata": {},
   "outputs": [
    {
     "data": {
      "text/plain": [
       "963.4169681182456"
      ]
     },
     "execution_count": 23,
     "metadata": {},
     "output_type": "execute_result"
    }
   ],
   "source": [
    "np.std(list_rmse_test)"
   ]
  },
  {
   "cell_type": "code",
   "execution_count": 24,
   "metadata": {},
   "outputs": [
    {
     "data": {
      "text/plain": [
       "5323.657882343119"
      ]
     },
     "execution_count": 24,
     "metadata": {},
     "output_type": "execute_result"
    }
   ],
   "source": [
    "np.mean(list_rmse_train)"
   ]
  },
  {
   "cell_type": "code",
   "execution_count": 25,
   "metadata": {},
   "outputs": [
    {
     "data": {
      "text/plain": [
       "8191.397634614073"
      ]
     },
     "execution_count": 25,
     "metadata": {},
     "output_type": "execute_result"
    }
   ],
   "source": [
    "np.mean(list_rmse_test)"
   ]
  }
 ],
 "metadata": {
  "kernelspec": {
   "display_name": "Python 3",
   "language": "python",
   "name": "python3"
  },
  "language_info": {
   "codemirror_mode": {
    "name": "ipython",
    "version": 3
   },
   "file_extension": ".py",
   "mimetype": "text/x-python",
   "name": "python",
   "nbconvert_exporter": "python",
   "pygments_lexer": "ipython3",
   "version": "3.7.0"
  }
 },
 "nbformat": 4,
 "nbformat_minor": 2
}
