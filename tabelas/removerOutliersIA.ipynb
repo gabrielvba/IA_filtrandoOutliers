{
 "cells": [
  {
   "cell_type": "code",
   "execution_count": 1,
   "metadata": {},
   "outputs": [],
   "source": [
    "import pandas as pd\n",
    "import numpy as np\n",
    "import matplotlib.pyplot as plt"
   ]
  },
  {
   "cell_type": "code",
   "execution_count": 7,
   "metadata": {},
   "outputs": [],
   "source": [
    "df = pd.read_csv(\"true_car_listings.csv\")"
   ]
  },
  {
   "cell_type": "code",
   "execution_count": 4,
   "metadata": {},
   "outputs": [
    {
     "data": {
      "text/html": [
       "<div>\n",
       "<style scoped>\n",
       "    .dataframe tbody tr th:only-of-type {\n",
       "        vertical-align: middle;\n",
       "    }\n",
       "\n",
       "    .dataframe tbody tr th {\n",
       "        vertical-align: top;\n",
       "    }\n",
       "\n",
       "    .dataframe thead th {\n",
       "        text-align: right;\n",
       "    }\n",
       "</style>\n",
       "<table border=\"1\" class=\"dataframe\">\n",
       "  <thead>\n",
       "    <tr style=\"text-align: right;\">\n",
       "      <th></th>\n",
       "      <th>Price</th>\n",
       "      <th>Year</th>\n",
       "      <th>Mileage</th>\n",
       "      <th>City</th>\n",
       "      <th>State</th>\n",
       "      <th>Vin</th>\n",
       "      <th>Make</th>\n",
       "      <th>Model</th>\n",
       "    </tr>\n",
       "  </thead>\n",
       "  <tbody>\n",
       "    <tr>\n",
       "      <th>0</th>\n",
       "      <td>8995</td>\n",
       "      <td>2014</td>\n",
       "      <td>35725</td>\n",
       "      <td>El Paso</td>\n",
       "      <td>TX</td>\n",
       "      <td>19VDE2E53EE000083</td>\n",
       "      <td>Acura</td>\n",
       "      <td>ILX6-Speed</td>\n",
       "    </tr>\n",
       "    <tr>\n",
       "      <th>1</th>\n",
       "      <td>10888</td>\n",
       "      <td>2013</td>\n",
       "      <td>19606</td>\n",
       "      <td>Long Island City</td>\n",
       "      <td>NY</td>\n",
       "      <td>19VDE1F52DE012636</td>\n",
       "      <td>Acura</td>\n",
       "      <td>ILX5-Speed</td>\n",
       "    </tr>\n",
       "    <tr>\n",
       "      <th>2</th>\n",
       "      <td>8995</td>\n",
       "      <td>2013</td>\n",
       "      <td>48851</td>\n",
       "      <td>El Paso</td>\n",
       "      <td>TX</td>\n",
       "      <td>19VDE2E52DE000025</td>\n",
       "      <td>Acura</td>\n",
       "      <td>ILX6-Speed</td>\n",
       "    </tr>\n",
       "    <tr>\n",
       "      <th>3</th>\n",
       "      <td>10999</td>\n",
       "      <td>2014</td>\n",
       "      <td>39922</td>\n",
       "      <td>Windsor</td>\n",
       "      <td>CO</td>\n",
       "      <td>19VDE1F71EE003817</td>\n",
       "      <td>Acura</td>\n",
       "      <td>ILX5-Speed</td>\n",
       "    </tr>\n",
       "    <tr>\n",
       "      <th>4</th>\n",
       "      <td>14799</td>\n",
       "      <td>2016</td>\n",
       "      <td>22142</td>\n",
       "      <td>Lindon</td>\n",
       "      <td>UT</td>\n",
       "      <td>19UDE2F32GA001284</td>\n",
       "      <td>Acura</td>\n",
       "      <td>ILXAutomatic</td>\n",
       "    </tr>\n",
       "  </tbody>\n",
       "</table>\n",
       "</div>"
      ],
      "text/plain": [
       "   Price  Year  Mileage              City State                Vin   Make  \\\n",
       "0   8995  2014    35725           El Paso    TX  19VDE2E53EE000083  Acura   \n",
       "1  10888  2013    19606  Long Island City    NY  19VDE1F52DE012636  Acura   \n",
       "2   8995  2013    48851           El Paso    TX  19VDE2E52DE000025  Acura   \n",
       "3  10999  2014    39922           Windsor    CO  19VDE1F71EE003817  Acura   \n",
       "4  14799  2016    22142            Lindon    UT  19UDE2F32GA001284  Acura   \n",
       "\n",
       "          Model  \n",
       "0    ILX6-Speed  \n",
       "1    ILX5-Speed  \n",
       "2    ILX6-Speed  \n",
       "3    ILX5-Speed  \n",
       "4  ILXAutomatic  "
      ]
     },
     "execution_count": 4,
     "metadata": {},
     "output_type": "execute_result"
    }
   ],
   "source": [
    "df.head()"
   ]
  },
  {
   "cell_type": "code",
   "execution_count": 5,
   "metadata": {},
   "outputs": [
    {
     "data": {
      "text/plain": [
       "Price      0\n",
       "Year       0\n",
       "Mileage    0\n",
       "City       0\n",
       "State      0\n",
       "Vin        0\n",
       "Make       0\n",
       "Model      0\n",
       "dtype: int64"
      ]
     },
     "execution_count": 5,
     "metadata": {},
     "output_type": "execute_result"
    }
   ],
   "source": [
    "df.isnull().sum()"
   ]
  },
  {
   "cell_type": "code",
   "execution_count": 6,
   "metadata": {},
   "outputs": [
    {
     "data": {
      "text/plain": [
       "Price       int64\n",
       "Year        int64\n",
       "Mileage     int64\n",
       "City       object\n",
       "State      object\n",
       "Vin        object\n",
       "Make       object\n",
       "Model      object\n",
       "dtype: object"
      ]
     },
     "execution_count": 6,
     "metadata": {},
     "output_type": "execute_result"
    }
   ],
   "source": [
    "df.dtypes"
   ]
  },
  {
   "cell_type": "code",
   "execution_count": 8,
   "metadata": {},
   "outputs": [],
   "source": [
    "outlier_price = ( df.quantile(0.75)[\"Price\"] - df.quantile(0.25)[\"Price\"] ) * 1.5\n",
    "outlier_priceX = ( df.quantile(0.75)[\"Price\"] - df.quantile(0.25)[\"Price\"] ) * 3"
   ]
  },
  {
   "cell_type": "code",
   "execution_count": 7,
   "metadata": {},
   "outputs": [
    {
     "data": {
      "text/plain": [
       "20992.5"
      ]
     },
     "execution_count": 7,
     "metadata": {},
     "output_type": "execute_result"
    }
   ],
   "source": [
    "outlier_price"
   ]
  },
  {
   "cell_type": "code",
   "execution_count": 8,
   "metadata": {},
   "outputs": [
    {
     "data": {
      "text/plain": [
       "41985.0"
      ]
     },
     "execution_count": 8,
     "metadata": {},
     "output_type": "execute_result"
    }
   ],
   "source": [
    "outlier_priceX"
   ]
  },
  {
   "cell_type": "code",
   "execution_count": 8,
   "metadata": {
    "scrolled": true
   },
   "outputs": [],
   "source": [
    "df2 = df.drop(df[(df.Price > df.quantile(0.75)[\"Price\"] + outlier_priceX)|\\\n",
    "                 (df.Price <  df.quantile(0.25)[\"Price\"]- outlier_priceX)].index)\n"
   ]
  },
  {
   "cell_type": "code",
   "execution_count": 32,
   "metadata": {},
   "outputs": [
    {
     "data": {
      "text/plain": [
       "(852122, 8)"
      ]
     },
     "execution_count": 32,
     "metadata": {},
     "output_type": "execute_result"
    }
   ],
   "source": [
    "df.shape "
   ]
  },
  {
   "cell_type": "code",
   "execution_count": 31,
   "metadata": {},
   "outputs": [
    {
     "data": {
      "text/plain": [
       "(846635, 8)"
      ]
     },
     "execution_count": 31,
     "metadata": {},
     "output_type": "execute_result"
    }
   ],
   "source": [
    "df2.shape "
   ]
  },
  {
   "cell_type": "code",
   "execution_count": 13,
   "metadata": {
    "scrolled": true
   },
   "outputs": [],
   "source": [
    "df2 = df.drop(df[(df.Price > df.quantile(0.75)[\"Price\"] + outlier_price)|\\\n",
    "                 (df.Price <  df.quantile(0.25)[\"Price\"]- outlier_price)].index)"
   ]
  },
  {
   "cell_type": "code",
   "execution_count": 34,
   "metadata": {},
   "outputs": [
    {
     "data": {
      "text/plain": [
       "(852122, 8)"
      ]
     },
     "execution_count": 34,
     "metadata": {},
     "output_type": "execute_result"
    }
   ],
   "source": [
    "df.shape "
   ]
  },
  {
   "cell_type": "code",
   "execution_count": 35,
   "metadata": {},
   "outputs": [
    {
     "data": {
      "text/plain": [
       "(824097, 8)"
      ]
     },
     "execution_count": 35,
     "metadata": {},
     "output_type": "execute_result"
    }
   ],
   "source": [
    "df2.shape "
   ]
  },
  {
   "cell_type": "code",
   "execution_count": 9,
   "metadata": {},
   "outputs": [],
   "source": [
    "outlier_mileage = ( df.quantile(0.75)[\"Mileage\"] - df.quantile(0.25)[\"Mileage\"] ) * 1.5\n",
    "outlier_mileageX = ( df.quantile(0.75)[\"Mileage\"] - df.quantile(0.25)[\"Mileage\"] ) * 3"
   ]
  },
  {
   "cell_type": "code",
   "execution_count": 9,
   "metadata": {},
   "outputs": [
    {
     "data": {
      "text/plain": [
       "72525.0"
      ]
     },
     "execution_count": 9,
     "metadata": {},
     "output_type": "execute_result"
    }
   ],
   "source": [
    "outlier_mileage"
   ]
  },
  {
   "cell_type": "code",
   "execution_count": 10,
   "metadata": {},
   "outputs": [
    {
     "data": {
      "text/plain": [
       "145050.0"
      ]
     },
     "execution_count": 10,
     "metadata": {},
     "output_type": "execute_result"
    }
   ],
   "source": [
    "outlier_mileageX"
   ]
  },
  {
   "cell_type": "code",
   "execution_count": 38,
   "metadata": {
    "scrolled": true
   },
   "outputs": [],
   "source": [
    "df3 = df.drop(df[(df.Mileage > df.quantile(0.75)[\"Mileage\"] + outlier_mileageX)|\\\n",
    "                 (df.Mileage <  df.quantile(0.25)[\"Mileage\"]- outlier_mileageX)].index)\n"
   ]
  },
  {
   "cell_type": "code",
   "execution_count": 39,
   "metadata": {},
   "outputs": [
    {
     "data": {
      "text/plain": [
       "(852122, 8)"
      ]
     },
     "execution_count": 39,
     "metadata": {},
     "output_type": "execute_result"
    }
   ],
   "source": [
    "df.shape "
   ]
  },
  {
   "cell_type": "code",
   "execution_count": 40,
   "metadata": {},
   "outputs": [
    {
     "data": {
      "text/plain": [
       "(848772, 8)"
      ]
     },
     "execution_count": 40,
     "metadata": {},
     "output_type": "execute_result"
    }
   ],
   "source": [
    "df3.shape "
   ]
  },
  {
   "cell_type": "code",
   "execution_count": 15,
   "metadata": {},
   "outputs": [],
   "source": [
    "df3 = df.drop(df[(df.Mileage > df.quantile(0.75)[\"Mileage\"] + outlier_mileage)|\\\n",
    "                 (df.Mileage <  df.quantile(0.25)[\"Mileage\"]- outlier_mileage)].index)\n"
   ]
  },
  {
   "cell_type": "code",
   "execution_count": 42,
   "metadata": {},
   "outputs": [
    {
     "data": {
      "text/plain": [
       "(852122, 8)"
      ]
     },
     "execution_count": 42,
     "metadata": {},
     "output_type": "execute_result"
    }
   ],
   "source": [
    "df.shape "
   ]
  },
  {
   "cell_type": "code",
   "execution_count": 43,
   "metadata": {},
   "outputs": [
    {
     "data": {
      "text/plain": [
       "(820524, 8)"
      ]
     },
     "execution_count": 43,
     "metadata": {},
     "output_type": "execute_result"
    }
   ],
   "source": [
    "df3.shape "
   ]
  },
  {
   "cell_type": "code",
   "execution_count": 11,
   "metadata": {},
   "outputs": [],
   "source": [
    "outlier_yearX = ( df.quantile(0.75)[\"Year\"] - df.quantile(0.25)[\"Year\"] ) * 3\n",
    "outlier_year = ( df.quantile(0.75)[\"Year\"] - df.quantile(0.25)[\"Year\"] ) * 1.5"
   ]
  },
  {
   "cell_type": "code",
   "execution_count": 11,
   "metadata": {},
   "outputs": [
    {
     "data": {
      "text/plain": [
       "6.0"
      ]
     },
     "execution_count": 11,
     "metadata": {},
     "output_type": "execute_result"
    }
   ],
   "source": [
    "outlier_year"
   ]
  },
  {
   "cell_type": "code",
   "execution_count": 12,
   "metadata": {},
   "outputs": [
    {
     "data": {
      "text/plain": [
       "12.0"
      ]
     },
     "execution_count": 12,
     "metadata": {},
     "output_type": "execute_result"
    }
   ],
   "source": [
    "outlier_yearX"
   ]
  },
  {
   "cell_type": "code",
   "execution_count": 45,
   "metadata": {
    "scrolled": true
   },
   "outputs": [],
   "source": [
    "df4 = df.drop(df[(df.Year > df.quantile(0.75)[\"Year\"] + outlier_yearX)|\\\n",
    "                 (df.Year <  df.quantile(0.25)[\"Year\"]- outlier_yearX)].index)"
   ]
  },
  {
   "cell_type": "code",
   "execution_count": 46,
   "metadata": {},
   "outputs": [
    {
     "data": {
      "text/plain": [
       "(852122, 8)"
      ]
     },
     "execution_count": 46,
     "metadata": {},
     "output_type": "execute_result"
    }
   ],
   "source": [
    "df.shape "
   ]
  },
  {
   "cell_type": "code",
   "execution_count": 47,
   "metadata": {},
   "outputs": [
    {
     "data": {
      "text/plain": [
       "(849498, 8)"
      ]
     },
     "execution_count": 47,
     "metadata": {},
     "output_type": "execute_result"
    }
   ],
   "source": [
    "df4.shape "
   ]
  },
  {
   "cell_type": "code",
   "execution_count": 17,
   "metadata": {},
   "outputs": [],
   "source": [
    "df4 = df.drop(df[(df.Year > df.quantile(0.75)[\"Year\"] + outlier_year)|\\\n",
    "                 (df.Year <  df.quantile(0.25)[\"Year\"]- outlier_year)].index)"
   ]
  },
  {
   "cell_type": "code",
   "execution_count": 49,
   "metadata": {},
   "outputs": [
    {
     "data": {
      "text/plain": [
       "(852122, 8)"
      ]
     },
     "execution_count": 49,
     "metadata": {},
     "output_type": "execute_result"
    }
   ],
   "source": [
    "df.shape "
   ]
  },
  {
   "cell_type": "code",
   "execution_count": 50,
   "metadata": {},
   "outputs": [
    {
     "data": {
      "text/plain": [
       "(816410, 8)"
      ]
     },
     "execution_count": 50,
     "metadata": {},
     "output_type": "execute_result"
    }
   ],
   "source": [
    "df4.shape "
   ]
  },
  {
   "cell_type": "code",
   "execution_count": 30,
   "metadata": {
    "scrolled": true
   },
   "outputs": [
    {
     "data": {
      "text/plain": [
       "499500"
      ]
     },
     "execution_count": 30,
     "metadata": {},
     "output_type": "execute_result"
    }
   ],
   "source": [
    "df[\"Price\"].max()"
   ]
  },
  {
   "cell_type": "code",
   "execution_count": 31,
   "metadata": {},
   "outputs": [
    {
     "data": {
      "text/plain": [
       "47987"
      ]
     },
     "execution_count": 31,
     "metadata": {},
     "output_type": "execute_result"
    }
   ],
   "source": [
    "df2[\"Price\"].max()"
   ]
  },
  {
   "cell_type": "code",
   "execution_count": 33,
   "metadata": {},
   "outputs": [
    {
     "data": {
      "text/plain": [
       "144711"
      ]
     },
     "execution_count": 33,
     "metadata": {},
     "output_type": "execute_result"
    }
   ],
   "source": [
    "df3[\"Mileage\"].max()"
   ]
  },
  {
   "cell_type": "code",
   "execution_count": 34,
   "metadata": {},
   "outputs": [
    {
     "data": {
      "text/plain": [
       "2856196"
      ]
     },
     "execution_count": 34,
     "metadata": {},
     "output_type": "execute_result"
    }
   ],
   "source": [
    "df[\"Mileage\"].max()"
   ]
  },
  {
   "cell_type": "code",
   "execution_count": 22,
   "metadata": {},
   "outputs": [
    {
     "data": {
      "text/plain": [
       "1997"
      ]
     },
     "execution_count": 22,
     "metadata": {},
     "output_type": "execute_result"
    }
   ],
   "source": [
    "df[\"Year\"].min()"
   ]
  },
  {
   "cell_type": "code",
   "execution_count": 23,
   "metadata": {},
   "outputs": [
    {
     "data": {
      "text/plain": [
       "2006"
      ]
     },
     "execution_count": 23,
     "metadata": {},
     "output_type": "execute_result"
    }
   ],
   "source": [
    "df4[\"Year\"].min()"
   ]
  },
  {
   "cell_type": "code",
   "execution_count": 66,
   "metadata": {},
   "outputs": [
    {
     "data": {
      "text/plain": [
       "<matplotlib.axes._subplots.AxesSubplot at 0x19faadd8940>"
      ]
     },
     "execution_count": 66,
     "metadata": {},
     "output_type": "execute_result"
    },
    {
     "data": {
      "image/png": "[encoded data removed]",
      "text/plain": [
       "<Figure size 432x288 with 1 Axes>"
      ]
     },
     "metadata": {
      "needs_background": "light"
     },
     "output_type": "display_data"
    }
   ],
   "source": [
    "df.boxplot(column='Price')"
   ]
  },
  {
   "cell_type": "code",
   "execution_count": 67,
   "metadata": {},
   "outputs": [
    {
     "data": {
      "text/plain": [
       "<matplotlib.axes._subplots.AxesSubplot at 0x19fadb5f128>"
      ]
     },
     "execution_count": 67,
     "metadata": {},
     "output_type": "execute_result"
    },
    {
     "data": {
      "image/png": "[encoded data removed]",
      "text/plain": [
       "<Figure size 432x288 with 1 Axes>"
      ]
     },
     "metadata": {
      "needs_background": "light"
     },
     "output_type": "display_data"
    }
   ],
   "source": [
    "df2.boxplot(column='Price')"
   ]
  },
  {
   "cell_type": "code",
   "execution_count": 68,
   "metadata": {},
   "outputs": [
    {
     "data": {
      "text/plain": [
       "<matplotlib.axes._subplots.AxesSubplot at 0x19fad3f5470>"
      ]
     },
     "execution_count": 68,
     "metadata": {},
     "output_type": "execute_result"
    },
    {
     "data": {
      "image/png": "[encoded data removed]",
      "text/plain": [
       "<Figure size 432x288 with 1 Axes>"
      ]
     },
     "metadata": {
      "needs_background": "light"
     },
     "output_type": "display_data"
    }
   ],
   "source": [
    "df.boxplot(column='Mileage')"
   ]
  },
  {
   "cell_type": "code",
   "execution_count": 69,
   "metadata": {},
   "outputs": [
    {
     "data": {
      "text/plain": [
       "<matplotlib.axes._subplots.AxesSubplot at 0x19fabdc0400>"
      ]
     },
     "execution_count": 69,
     "metadata": {},
     "output_type": "execute_result"
    },
    {
     "data": {
      "image/png": "[encoded data removed]",
      "text/plain": [
       "<Figure size 432x288 with 1 Axes>"
      ]
     },
     "metadata": {
      "needs_background": "light"
     },
     "output_type": "display_data"
    }
   ],
   "source": [
    "df3.boxplot(column='Mileage')"
   ]
  },
  {
   "cell_type": "code",
   "execution_count": 70,
   "metadata": {},
   "outputs": [
    {
     "data": {
      "text/plain": [
       "<matplotlib.axes._subplots.AxesSubplot at 0x19fad43e6d8>"
      ]
     },
     "execution_count": 70,
     "metadata": {},
     "output_type": "execute_result"
    },
    {
     "data": {
      "image/png": "[encoded data removed]",
      "text/plain": [
       "<Figure size 432x288 with 1 Axes>"
      ]
     },
     "metadata": {
      "needs_background": "light"
     },
     "output_type": "display_data"
    }
   ],
   "source": [
    "df.boxplot(column='Year')"
   ]
  },
  {
   "cell_type": "code",
   "execution_count": 71,
   "metadata": {},
   "outputs": [
    {
     "data": {
      "text/plain": [
       "<matplotlib.axes._subplots.AxesSubplot at 0x19fad46fd30>"
      ]
     },
     "execution_count": 71,
     "metadata": {},
     "output_type": "execute_result"
    },
    {
     "data": {
      "image/png": "[encoded data removed]",
      "text/plain": [
       "<Figure size 432x288 with 1 Axes>"
      ]
     },
     "metadata": {
      "needs_background": "light"
     },
     "output_type": "display_data"
    }
   ],
   "source": [
    "df4.boxplot(column='Year')"
   ]
  },
  {
   "cell_type": "code",
   "execution_count": 21,
   "metadata": {},
   "outputs": [
    {
     "ename": "PermissionError",
     "evalue": "[Errno 13] Permission denied: 'trataPrice.csv'",
     "output_type": "error",
     "traceback": [
      "\u001b[1;31m---------------------------------------------------------------------------\u001b[0m",
      "\u001b[1;31mPermissionError\u001b[0m                           Traceback (most recent call last)",
      "\u001b[1;32m<ipython-input-21-d96e1df1c2a6>\u001b[0m in \u001b[0;36m<module>\u001b[1;34m()\u001b[0m\n\u001b[1;32m----> 1\u001b[1;33m \u001b[0mdf2\u001b[0m\u001b[1;33m.\u001b[0m\u001b[0mto_csv\u001b[0m\u001b[1;33m(\u001b[0m\u001b[1;34m'trataPrice.csv'\u001b[0m\u001b[1;33m,\u001b[0m \u001b[0mindex\u001b[0m\u001b[1;33m=\u001b[0m\u001b[1;32mFalse\u001b[0m\u001b[1;33m)\u001b[0m\u001b[1;33m\u001b[0m\u001b[0m\n\u001b[0m",
      "\u001b[1;32m~\\Anaconda3\\lib\\site-packages\\pandas\\core\\frame.py\u001b[0m in \u001b[0;36mto_csv\u001b[1;34m(self, path_or_buf, sep, na_rep, float_format, columns, header, index, index_label, mode, encoding, compression, quoting, quotechar, line_terminator, chunksize, tupleize_cols, date_format, doublequote, escapechar, decimal)\u001b[0m\n\u001b[0;32m   1743\u001b[0m                                  \u001b[0mdoublequote\u001b[0m\u001b[1;33m=\u001b[0m\u001b[0mdoublequote\u001b[0m\u001b[1;33m,\u001b[0m\u001b[1;33m\u001b[0m\u001b[0m\n\u001b[0;32m   1744\u001b[0m                                  escapechar=escapechar, decimal=decimal)\n\u001b[1;32m-> 1745\u001b[1;33m         \u001b[0mformatter\u001b[0m\u001b[1;33m.\u001b[0m\u001b[0msave\u001b[0m\u001b[1;33m(\u001b[0m\u001b[1;33m)\u001b[0m\u001b[1;33m\u001b[0m\u001b[0m\n\u001b[0m\u001b[0;32m   1746\u001b[0m \u001b[1;33m\u001b[0m\u001b[0m\n\u001b[0;32m   1747\u001b[0m         \u001b[1;32mif\u001b[0m \u001b[0mpath_or_buf\u001b[0m \u001b[1;32mis\u001b[0m \u001b[1;32mNone\u001b[0m\u001b[1;33m:\u001b[0m\u001b[1;33m\u001b[0m\u001b[0m\n",
      "\u001b[1;32m~\\Anaconda3\\lib\\site-packages\\pandas\\io\\formats\\csvs.py\u001b[0m in \u001b[0;36msave\u001b[1;34m(self)\u001b[0m\n\u001b[0;32m    154\u001b[0m             f, handles = _get_handle(self.path_or_buf, self.mode,\n\u001b[0;32m    155\u001b[0m                                      \u001b[0mencoding\u001b[0m\u001b[1;33m=\u001b[0m\u001b[0mencoding\u001b[0m\u001b[1;33m,\u001b[0m\u001b[1;33m\u001b[0m\u001b[0m\n\u001b[1;32m--> 156\u001b[1;33m                                      compression=self.compression)\n\u001b[0m\u001b[0;32m    157\u001b[0m             \u001b[0mclose\u001b[0m \u001b[1;33m=\u001b[0m \u001b[1;32mTrue\u001b[0m\u001b[1;33m\u001b[0m\u001b[0m\n\u001b[0;32m    158\u001b[0m \u001b[1;33m\u001b[0m\u001b[0m\n",
      "\u001b[1;32m~\\Anaconda3\\lib\\site-packages\\pandas\\io\\common.py\u001b[0m in \u001b[0;36m_get_handle\u001b[1;34m(path_or_buf, mode, encoding, compression, memory_map, is_text)\u001b[0m\n\u001b[0;32m    398\u001b[0m         \u001b[1;32melif\u001b[0m \u001b[0mencoding\u001b[0m\u001b[1;33m:\u001b[0m\u001b[1;33m\u001b[0m\u001b[0m\n\u001b[0;32m    399\u001b[0m             \u001b[1;31m# Python 3 and encoding\u001b[0m\u001b[1;33m\u001b[0m\u001b[1;33m\u001b[0m\u001b[0m\n\u001b[1;32m--> 400\u001b[1;33m             \u001b[0mf\u001b[0m \u001b[1;33m=\u001b[0m \u001b[0mopen\u001b[0m\u001b[1;33m(\u001b[0m\u001b[0mpath_or_buf\u001b[0m\u001b[1;33m,\u001b[0m \u001b[0mmode\u001b[0m\u001b[1;33m,\u001b[0m \u001b[0mencoding\u001b[0m\u001b[1;33m=\u001b[0m\u001b[0mencoding\u001b[0m\u001b[1;33m)\u001b[0m\u001b[1;33m\u001b[0m\u001b[0m\n\u001b[0m\u001b[0;32m    401\u001b[0m         \u001b[1;32melif\u001b[0m \u001b[0mis_text\u001b[0m\u001b[1;33m:\u001b[0m\u001b[1;33m\u001b[0m\u001b[0m\n\u001b[0;32m    402\u001b[0m             \u001b[1;31m# Python 3 and no explicit encoding\u001b[0m\u001b[1;33m\u001b[0m\u001b[1;33m\u001b[0m\u001b[0m\n",
      "\u001b[1;31mPermissionError\u001b[0m: [Errno 13] Permission denied: 'trataPrice.csv'"
     ]
    }
   ],
   "source": [
    "\"df2.to_csv('trataPrice.csv', index=False)\""
   ]
  },
  {
   "cell_type": "code",
   "execution_count": 5,
   "metadata": {},
   "outputs": [
    {
     "data": {
      "text/plain": [
       "(824097, 8)"
      ]
     },
     "execution_count": 5,
     "metadata": {},
     "output_type": "execute_result"
    }
   ],
   "source": [
    "dfp = pd.read_csv(\"trataPrice.csv\")\n",
    "dfp.shape"
   ]
  },
  {
   "cell_type": "code",
   "execution_count": 12,
   "metadata": {},
   "outputs": [],
   "source": [
    "dfm = dfp.drop(dfp[(dfp.Mileage > df.quantile(0.75)[\"Mileage\"] + outlier_mileage)|\\\n",
    "                 (dfp.Mileage <  df.quantile(0.25)[\"Mileage\"]- outlier_mileage)].index)\n"
   ]
  },
  {
   "cell_type": "code",
   "execution_count": 14,
   "metadata": {},
   "outputs": [
    {
     "data": {
      "text/plain": [
       "(792523, 8)"
      ]
     },
     "execution_count": 14,
     "metadata": {},
     "output_type": "execute_result"
    }
   ],
   "source": [
    "dfm.shape"
   ]
  },
  {
   "cell_type": "code",
   "execution_count": 16,
   "metadata": {},
   "outputs": [],
   "source": [
    "dfm.to_csv('trataMileage.csv', index=False)"
   ]
  },
  {
   "cell_type": "code",
   "execution_count": 17,
   "metadata": {},
   "outputs": [
    {
     "data": {
      "text/plain": [
       "(792523, 8)"
      ]
     },
     "execution_count": 17,
     "metadata": {},
     "output_type": "execute_result"
    }
   ],
   "source": [
    "dfm = pd.read_csv(\"trataMileage.csv\")\n",
    "dfm.shape"
   ]
  },
  {
   "cell_type": "code",
   "execution_count": 19,
   "metadata": {},
   "outputs": [],
   "source": [
    "dfy = dfm.drop(dfm[(dfm.Year > df.quantile(0.75)[\"Year\"] + outlier_year)|\\\n",
    "                 (dfm.Year <  df.quantile(0.25)[\"Year\"]- outlier_year)].index)"
   ]
  },
  {
   "cell_type": "code",
   "execution_count": 20,
   "metadata": {},
   "outputs": [
    {
     "data": {
      "text/plain": [
       "(770733, 8)"
      ]
     },
     "execution_count": 20,
     "metadata": {},
     "output_type": "execute_result"
    }
   ],
   "source": [
    "dfy.shape"
   ]
  },
  {
   "cell_type": "code",
   "execution_count": 21,
   "metadata": {},
   "outputs": [],
   "source": [
    "dfy.to_csv('trataYear.csv', index=False)"
   ]
  },
  {
   "cell_type": "code",
   "execution_count": 40,
   "metadata": {},
   "outputs": [
    {
     "data": {
      "text/html": [
       "<div>\n",
       "<style scoped>\n",
       "    .dataframe tbody tr th:only-of-type {\n",
       "        vertical-align: middle;\n",
       "    }\n",
       "\n",
       "    .dataframe tbody tr th {\n",
       "        vertical-align: top;\n",
       "    }\n",
       "\n",
       "    .dataframe thead th {\n",
       "        text-align: right;\n",
       "    }\n",
       "</style>\n",
       "<table border=\"1\" class=\"dataframe\">\n",
       "  <thead>\n",
       "    <tr style=\"text-align: right;\">\n",
       "      <th></th>\n",
       "      <th>Price</th>\n",
       "      <th>Year</th>\n",
       "      <th>Mileage</th>\n",
       "      <th>City</th>\n",
       "      <th>State</th>\n",
       "      <th>Vin</th>\n",
       "      <th>Make</th>\n",
       "      <th>Model</th>\n",
       "    </tr>\n",
       "  </thead>\n",
       "  <tbody>\n",
       "    <tr>\n",
       "      <th>203</th>\n",
       "      <td>15490</td>\n",
       "      <td>2015</td>\n",
       "      <td>40131</td>\n",
       "      <td>Kennesaw</td>\n",
       "      <td>GA</td>\n",
       "      <td>19VDE1F34FE007892</td>\n",
       "      <td>Acura</td>\n",
       "      <td>ILX4dr</td>\n",
       "    </tr>\n",
       "    <tr>\n",
       "      <th>9</th>\n",
       "      <td>9995</td>\n",
       "      <td>2013</td>\n",
       "      <td>63887</td>\n",
       "      <td>El Paso</td>\n",
       "      <td>TX</td>\n",
       "      <td>19VDE1F50DE010450</td>\n",
       "      <td>Acura</td>\n",
       "      <td>ILX5-Speed</td>\n",
       "    </tr>\n",
       "    <tr>\n",
       "      <th>1123</th>\n",
       "      <td>10790</td>\n",
       "      <td>2013</td>\n",
       "      <td>111751</td>\n",
       "      <td>Fredericksburg</td>\n",
       "      <td>VA</td>\n",
       "      <td>19VDE1F36DE014999</td>\n",
       "      <td>Acura</td>\n",
       "      <td>ILX5-Speed</td>\n",
       "    </tr>\n",
       "    <tr>\n",
       "      <th>1</th>\n",
       "      <td>10888</td>\n",
       "      <td>2013</td>\n",
       "      <td>19606</td>\n",
       "      <td>Long Island City</td>\n",
       "      <td>NY</td>\n",
       "      <td>19VDE1F52DE012636</td>\n",
       "      <td>Acura</td>\n",
       "      <td>ILX5-Speed</td>\n",
       "    </tr>\n",
       "    <tr>\n",
       "      <th>3</th>\n",
       "      <td>10999</td>\n",
       "      <td>2014</td>\n",
       "      <td>39922</td>\n",
       "      <td>Windsor</td>\n",
       "      <td>CO</td>\n",
       "      <td>19VDE1F71EE003817</td>\n",
       "      <td>Acura</td>\n",
       "      <td>ILX5-Speed</td>\n",
       "    </tr>\n",
       "  </tbody>\n",
       "</table>\n",
       "</div>"
      ],
      "text/plain": [
       "      Price  Year  Mileage              City State                Vin   Make  \\\n",
       "203   15490  2015    40131          Kennesaw    GA  19VDE1F34FE007892  Acura   \n",
       "9      9995  2013    63887           El Paso    TX  19VDE1F50DE010450  Acura   \n",
       "1123  10790  2013   111751    Fredericksburg    VA  19VDE1F36DE014999  Acura   \n",
       "1     10888  2013    19606  Long Island City    NY  19VDE1F52DE012636  Acura   \n",
       "3     10999  2014    39922           Windsor    CO  19VDE1F71EE003817  Acura   \n",
       "\n",
       "           Model  \n",
       "203       ILX4dr  \n",
       "9     ILX5-Speed  \n",
       "1123  ILX5-Speed  \n",
       "1     ILX5-Speed  \n",
       "3     ILX5-Speed  "
      ]
     },
     "execution_count": 40,
     "metadata": {},
     "output_type": "execute_result"
    }
   ],
   "source": [
    "dff = dfy.sort_values(['Make', 'Model','Price','Year'])\n",
    "dff.head()"
   ]
  },
  {
   "cell_type": "code",
   "execution_count": 32,
   "metadata": {},
   "outputs": [],
   "source": [
    "dff = dff.drop(columns = \"Vin\")"
   ]
  },
  {
   "cell_type": "code",
   "execution_count": 38,
   "metadata": {},
   "outputs": [
    {
     "data": {
      "text/html": [
       "<div>\n",
       "<style scoped>\n",
       "    .dataframe tbody tr th:only-of-type {\n",
       "        vertical-align: middle;\n",
       "    }\n",
       "\n",
       "    .dataframe tbody tr th {\n",
       "        vertical-align: top;\n",
       "    }\n",
       "\n",
       "    .dataframe thead th {\n",
       "        text-align: right;\n",
       "    }\n",
       "</style>\n",
       "<table border=\"1\" class=\"dataframe\">\n",
       "  <thead>\n",
       "    <tr style=\"text-align: right;\">\n",
       "      <th></th>\n",
       "      <th>Price</th>\n",
       "      <th>Year</th>\n",
       "      <th>Mileage</th>\n",
       "      <th>City</th>\n",
       "      <th>State</th>\n",
       "      <th>Make</th>\n",
       "      <th>Model</th>\n",
       "    </tr>\n",
       "  </thead>\n",
       "  <tbody>\n",
       "    <tr>\n",
       "      <th>203</th>\n",
       "      <td>15490</td>\n",
       "      <td>2015</td>\n",
       "      <td>40131</td>\n",
       "      <td>Kennesaw</td>\n",
       "      <td>GA</td>\n",
       "      <td>Acura</td>\n",
       "      <td>ILX4dr</td>\n",
       "    </tr>\n",
       "    <tr>\n",
       "      <th>9</th>\n",
       "      <td>9995</td>\n",
       "      <td>2013</td>\n",
       "      <td>63887</td>\n",
       "      <td>El Paso</td>\n",
       "      <td>TX</td>\n",
       "      <td>Acura</td>\n",
       "      <td>ILX5-Speed</td>\n",
       "    </tr>\n",
       "    <tr>\n",
       "      <th>1123</th>\n",
       "      <td>10790</td>\n",
       "      <td>2013</td>\n",
       "      <td>111751</td>\n",
       "      <td>Fredericksburg</td>\n",
       "      <td>VA</td>\n",
       "      <td>Acura</td>\n",
       "      <td>ILX5-Speed</td>\n",
       "    </tr>\n",
       "    <tr>\n",
       "      <th>1</th>\n",
       "      <td>10888</td>\n",
       "      <td>2013</td>\n",
       "      <td>19606</td>\n",
       "      <td>Long Island City</td>\n",
       "      <td>NY</td>\n",
       "      <td>Acura</td>\n",
       "      <td>ILX5-Speed</td>\n",
       "    </tr>\n",
       "    <tr>\n",
       "      <th>3</th>\n",
       "      <td>10999</td>\n",
       "      <td>2014</td>\n",
       "      <td>39922</td>\n",
       "      <td>Windsor</td>\n",
       "      <td>CO</td>\n",
       "      <td>Acura</td>\n",
       "      <td>ILX5-Speed</td>\n",
       "    </tr>\n",
       "  </tbody>\n",
       "</table>\n",
       "</div>"
      ],
      "text/plain": [
       "      Price  Year  Mileage              City State   Make       Model\n",
       "203   15490  2015    40131          Kennesaw    GA  Acura      ILX4dr\n",
       "9      9995  2013    63887           El Paso    TX  Acura  ILX5-Speed\n",
       "1123  10790  2013   111751    Fredericksburg    VA  Acura  ILX5-Speed\n",
       "1     10888  2013    19606  Long Island City    NY  Acura  ILX5-Speed\n",
       "3     10999  2014    39922           Windsor    CO  Acura  ILX5-Speed"
      ]
     },
     "execution_count": 38,
     "metadata": {},
     "output_type": "execute_result"
    }
   ],
   "source": [
    "dff.head()"
   ]
  },
  {
   "cell_type": "code",
   "execution_count": 39,
   "metadata": {},
   "outputs": [],
   "source": [
    "dff.to_csv('final.csv', index=False)"
   ]
  },
  {
   "cell_type": "code",
   "execution_count": 42,
   "metadata": {},
   "outputs": [],
   "source": [
    "df = df.drop(columns = \"Vin\")"
   ]
  },
  {
   "cell_type": "code",
   "execution_count": 43,
   "metadata": {
    "scrolled": true
   },
   "outputs": [
    {
     "data": {
      "text/html": [
       "<div>\n",
       "<style scoped>\n",
       "    .dataframe tbody tr th:only-of-type {\n",
       "        vertical-align: middle;\n",
       "    }\n",
       "\n",
       "    .dataframe tbody tr th {\n",
       "        vertical-align: top;\n",
       "    }\n",
       "\n",
       "    .dataframe thead th {\n",
       "        text-align: right;\n",
       "    }\n",
       "</style>\n",
       "<table border=\"1\" class=\"dataframe\">\n",
       "  <thead>\n",
       "    <tr style=\"text-align: right;\">\n",
       "      <th></th>\n",
       "      <th>Price</th>\n",
       "      <th>Year</th>\n",
       "      <th>Mileage</th>\n",
       "      <th>City</th>\n",
       "      <th>State</th>\n",
       "      <th>Make</th>\n",
       "      <th>Model</th>\n",
       "    </tr>\n",
       "  </thead>\n",
       "  <tbody>\n",
       "    <tr>\n",
       "      <th>11093</th>\n",
       "      <td>39795</td>\n",
       "      <td>1999</td>\n",
       "      <td>93865</td>\n",
       "      <td>Indianapolis</td>\n",
       "      <td>IN</td>\n",
       "      <td>AM</td>\n",
       "      <td>General</td>\n",
       "    </tr>\n",
       "    <tr>\n",
       "      <th>11095</th>\n",
       "      <td>45000</td>\n",
       "      <td>1998</td>\n",
       "      <td>79163</td>\n",
       "      <td>Dallas</td>\n",
       "      <td>TX</td>\n",
       "      <td>AM</td>\n",
       "      <td>General</td>\n",
       "    </tr>\n",
       "    <tr>\n",
       "      <th>11094</th>\n",
       "      <td>46795</td>\n",
       "      <td>2000</td>\n",
       "      <td>64142</td>\n",
       "      <td>South River</td>\n",
       "      <td>NJ</td>\n",
       "      <td>AM</td>\n",
       "      <td>General</td>\n",
       "    </tr>\n",
       "    <tr>\n",
       "      <th>11096</th>\n",
       "      <td>48900</td>\n",
       "      <td>2000</td>\n",
       "      <td>73204</td>\n",
       "      <td>Fredericksburg</td>\n",
       "      <td>VA</td>\n",
       "      <td>AM</td>\n",
       "      <td>General</td>\n",
       "    </tr>\n",
       "    <tr>\n",
       "      <th>11098</th>\n",
       "      <td>49999</td>\n",
       "      <td>1998</td>\n",
       "      <td>118000</td>\n",
       "      <td>Newnan</td>\n",
       "      <td>GA</td>\n",
       "      <td>AM</td>\n",
       "      <td>General</td>\n",
       "    </tr>\n",
       "  </tbody>\n",
       "</table>\n",
       "</div>"
      ],
      "text/plain": [
       "       Price  Year  Mileage            City State Make    Model\n",
       "11093  39795  1999    93865    Indianapolis    IN   AM  General\n",
       "11095  45000  1998    79163          Dallas    TX   AM  General\n",
       "11094  46795  2000    64142     South River    NJ   AM  General\n",
       "11096  48900  2000    73204  Fredericksburg    VA   AM  General\n",
       "11098  49999  1998   118000          Newnan    GA   AM  General"
      ]
     },
     "execution_count": 43,
     "metadata": {},
     "output_type": "execute_result"
    }
   ],
   "source": [
    "df = df.sort_values(['Make', 'Model','Price','Year'])\n",
    "df.head()"
   ]
  },
  {
   "cell_type": "code",
   "execution_count": 44,
   "metadata": {},
   "outputs": [],
   "source": [
    "df.to_csv('inicio.csv', index=False)"
   ]
  },
  {
   "cell_type": "code",
   "execution_count": 46,
   "metadata": {},
   "outputs": [],
   "source": [
    "fim = pd.read_csv(\"final.csv\")"
   ]
  },
  {
   "cell_type": "code",
   "execution_count": 45,
   "metadata": {},
   "outputs": [],
   "source": [
    "inicio =  pd.read_csv(\"inicio.csv\")"
   ]
  },
  {
   "cell_type": "code",
   "execution_count": 47,
   "metadata": {},
   "outputs": [
    {
     "data": {
      "text/plain": [
       "(770733, 7)"
      ]
     },
     "execution_count": 47,
     "metadata": {},
     "output_type": "execute_result"
    }
   ],
   "source": [
    "fim.shape"
   ]
  },
  {
   "cell_type": "code",
   "execution_count": 48,
   "metadata": {},
   "outputs": [
    {
     "data": {
      "text/plain": [
       "(852122, 7)"
      ]
     },
     "execution_count": 48,
     "metadata": {},
     "output_type": "execute_result"
    }
   ],
   "source": [
    "inicio.shape"
   ]
  },
  {
   "cell_type": "code",
   "execution_count": 49,
   "metadata": {},
   "outputs": [
    {
     "data": {
      "text/plain": [
       "<matplotlib.axes._subplots.AxesSubplot at 0x1d6c9d976d8>"
      ]
     },
     "execution_count": 49,
     "metadata": {},
     "output_type": "execute_result"
    },
    {
     "data": {
      "image/png": "[encoded data removed]",
      "text/plain": [
       "<Figure size 432x288 with 1 Axes>"
      ]
     },
     "metadata": {
      "needs_background": "light"
     },
     "output_type": "display_data"
    }
   ],
   "source": [
    "inicio.boxplot(column='Price')"
   ]
  },
  {
   "cell_type": "code",
   "execution_count": 50,
   "metadata": {},
   "outputs": [
    {
     "data": {
      "text/plain": [
       "<matplotlib.axes._subplots.AxesSubplot at 0x1d6c9b260b8>"
      ]
     },
     "execution_count": 50,
     "metadata": {},
     "output_type": "execute_result"
    },
    {
     "data": {
      "image/png": "[encoded data removed]",
      "text/plain": [
       "<Figure size 432x288 with 1 Axes>"
      ]
     },
     "metadata": {
      "needs_background": "light"
     },
     "output_type": "display_data"
    }
   ],
   "source": [
    "fim.boxplot(column='Price')"
   ]
  },
  {
   "cell_type": "code",
   "execution_count": 51,
   "metadata": {},
   "outputs": [
    {
     "data": {
      "text/plain": [
       "<matplotlib.axes._subplots.AxesSubplot at 0x1d6c9b894a8>"
      ]
     },
     "execution_count": 51,
     "metadata": {},
     "output_type": "execute_result"
    },
    {
     "data": {
      "image/png": "[encoded data removed]",
      "text/plain": [
       "<Figure size 432x288 with 1 Axes>"
      ]
     },
     "metadata": {
      "needs_background": "light"
     },
     "output_type": "display_data"
    }
   ],
   "source": [
    "inicio.boxplot(column='Mileage')"
   ]
  },
  {
   "cell_type": "code",
   "execution_count": 52,
   "metadata": {},
   "outputs": [
    {
     "data": {
      "text/plain": [
       "<matplotlib.axes._subplots.AxesSubplot at 0x1d6c9bed438>"
      ]
     },
     "execution_count": 52,
     "metadata": {},
     "output_type": "execute_result"
    },
    {
     "data": {
      "image/png": "[encoded data removed]",
      "text/plain": [
       "<Figure size 432x288 with 1 Axes>"
      ]
     },
     "metadata": {
      "needs_background": "light"
     },
     "output_type": "display_data"
    }
   ],
   "source": [
    "fim.boxplot(column='Mileage')"
   ]
  },
  {
   "cell_type": "code",
   "execution_count": 53,
   "metadata": {},
   "outputs": [
    {
     "data": {
      "text/plain": [
       "<matplotlib.axes._subplots.AxesSubplot at 0x1d6c9c53f28>"
      ]
     },
     "execution_count": 53,
     "metadata": {},
     "output_type": "execute_result"
    },
    {
     "data": {
      "image/png": "[encoded data removed]",
      "text/plain": [
       "<Figure size 432x288 with 1 Axes>"
      ]
     },
     "metadata": {
      "needs_background": "light"
     },
     "output_type": "display_data"
    }
   ],
   "source": [
    "inicio.boxplot(column='Year')"
   ]
  },
  {
   "cell_type": "code",
   "execution_count": 54,
   "metadata": {},
   "outputs": [
    {
     "data": {
      "text/plain": [
       "<matplotlib.axes._subplots.AxesSubplot at 0x1d6c9caa4a8>"
      ]
     },
     "execution_count": 54,
     "metadata": {},
     "output_type": "execute_result"
    },
    {
     "data": {
      "image/png": "[encoded data removed]",
      "text/plain": [
       "<Figure size 432x288 with 1 Axes>"
      ]
     },
     "metadata": {
      "needs_background": "light"
     },
     "output_type": "display_data"
    }
   ],
   "source": [
    "fim.boxplot(column='Year')"
   ]
  },
  {
   "cell_type": "code",
   "execution_count": 55,
   "metadata": {},
   "outputs": [
    {
     "data": {
      "text/html": [
       "<div>\n",
       "<style scoped>\n",
       "    .dataframe tbody tr th:only-of-type {\n",
       "        vertical-align: middle;\n",
       "    }\n",
       "\n",
       "    .dataframe tbody tr th {\n",
       "        vertical-align: top;\n",
       "    }\n",
       "\n",
       "    .dataframe thead th {\n",
       "        text-align: right;\n",
       "    }\n",
       "</style>\n",
       "<table border=\"1\" class=\"dataframe\">\n",
       "  <thead>\n",
       "    <tr style=\"text-align: right;\">\n",
       "      <th></th>\n",
       "      <th>Price</th>\n",
       "      <th>Year</th>\n",
       "      <th>Mileage</th>\n",
       "      <th>City</th>\n",
       "      <th>State</th>\n",
       "      <th>Make</th>\n",
       "      <th>Model</th>\n",
       "    </tr>\n",
       "  </thead>\n",
       "  <tbody>\n",
       "    <tr>\n",
       "      <th>0</th>\n",
       "      <td>15490</td>\n",
       "      <td>2015</td>\n",
       "      <td>40131</td>\n",
       "      <td>Kennesaw</td>\n",
       "      <td>GA</td>\n",
       "      <td>Acura</td>\n",
       "      <td>ILX4dr</td>\n",
       "    </tr>\n",
       "    <tr>\n",
       "      <th>1</th>\n",
       "      <td>9995</td>\n",
       "      <td>2013</td>\n",
       "      <td>63887</td>\n",
       "      <td>El Paso</td>\n",
       "      <td>TX</td>\n",
       "      <td>Acura</td>\n",
       "      <td>ILX5-Speed</td>\n",
       "    </tr>\n",
       "    <tr>\n",
       "      <th>2</th>\n",
       "      <td>10790</td>\n",
       "      <td>2013</td>\n",
       "      <td>111751</td>\n",
       "      <td>Fredericksburg</td>\n",
       "      <td>VA</td>\n",
       "      <td>Acura</td>\n",
       "      <td>ILX5-Speed</td>\n",
       "    </tr>\n",
       "    <tr>\n",
       "      <th>3</th>\n",
       "      <td>10888</td>\n",
       "      <td>2013</td>\n",
       "      <td>19606</td>\n",
       "      <td>Long Island City</td>\n",
       "      <td>NY</td>\n",
       "      <td>Acura</td>\n",
       "      <td>ILX5-Speed</td>\n",
       "    </tr>\n",
       "    <tr>\n",
       "      <th>4</th>\n",
       "      <td>10999</td>\n",
       "      <td>2014</td>\n",
       "      <td>39922</td>\n",
       "      <td>Windsor</td>\n",
       "      <td>CO</td>\n",
       "      <td>Acura</td>\n",
       "      <td>ILX5-Speed</td>\n",
       "    </tr>\n",
       "    <tr>\n",
       "      <th>5</th>\n",
       "      <td>11300</td>\n",
       "      <td>2013</td>\n",
       "      <td>90585</td>\n",
       "      <td>Westampton</td>\n",
       "      <td>NJ</td>\n",
       "      <td>Acura</td>\n",
       "      <td>ILX5-Speed</td>\n",
       "    </tr>\n",
       "    <tr>\n",
       "      <th>6</th>\n",
       "      <td>11700</td>\n",
       "      <td>2013</td>\n",
       "      <td>87748</td>\n",
       "      <td>Wilkes-Barre</td>\n",
       "      <td>PA</td>\n",
       "      <td>Acura</td>\n",
       "      <td>ILX5-Speed</td>\n",
       "    </tr>\n",
       "    <tr>\n",
       "      <th>7</th>\n",
       "      <td>11890</td>\n",
       "      <td>2014</td>\n",
       "      <td>77898</td>\n",
       "      <td>Greatneck</td>\n",
       "      <td>NY</td>\n",
       "      <td>Acura</td>\n",
       "      <td>ILX5-Speed</td>\n",
       "    </tr>\n",
       "    <tr>\n",
       "      <th>8</th>\n",
       "      <td>11982</td>\n",
       "      <td>2013</td>\n",
       "      <td>69027</td>\n",
       "      <td>Lakewood</td>\n",
       "      <td>NJ</td>\n",
       "      <td>Acura</td>\n",
       "      <td>ILX5-Speed</td>\n",
       "    </tr>\n",
       "    <tr>\n",
       "      <th>9</th>\n",
       "      <td>11995</td>\n",
       "      <td>2013</td>\n",
       "      <td>104111</td>\n",
       "      <td>Louisville</td>\n",
       "      <td>KY</td>\n",
       "      <td>Acura</td>\n",
       "      <td>ILX5-Speed</td>\n",
       "    </tr>\n",
       "    <tr>\n",
       "      <th>10</th>\n",
       "      <td>11995</td>\n",
       "      <td>2014</td>\n",
       "      <td>76722</td>\n",
       "      <td>Hackettstown</td>\n",
       "      <td>NJ</td>\n",
       "      <td>Acura</td>\n",
       "      <td>ILX5-Speed</td>\n",
       "    </tr>\n",
       "    <tr>\n",
       "      <th>11</th>\n",
       "      <td>12000</td>\n",
       "      <td>2013</td>\n",
       "      <td>40527</td>\n",
       "      <td>Long Island City</td>\n",
       "      <td>NY</td>\n",
       "      <td>Acura</td>\n",
       "      <td>ILX5-Speed</td>\n",
       "    </tr>\n",
       "    <tr>\n",
       "      <th>12</th>\n",
       "      <td>12491</td>\n",
       "      <td>2014</td>\n",
       "      <td>92106</td>\n",
       "      <td>Elmhurst</td>\n",
       "      <td>IL</td>\n",
       "      <td>Acura</td>\n",
       "      <td>ILX5-Speed</td>\n",
       "    </tr>\n",
       "    <tr>\n",
       "      <th>13</th>\n",
       "      <td>12558</td>\n",
       "      <td>2013</td>\n",
       "      <td>73003</td>\n",
       "      <td>Chamblee</td>\n",
       "      <td>GA</td>\n",
       "      <td>Acura</td>\n",
       "      <td>ILX5-Speed</td>\n",
       "    </tr>\n",
       "    <tr>\n",
       "      <th>14</th>\n",
       "      <td>12591</td>\n",
       "      <td>2014</td>\n",
       "      <td>88107</td>\n",
       "      <td>Timonium</td>\n",
       "      <td>MD</td>\n",
       "      <td>Acura</td>\n",
       "      <td>ILX5-Speed</td>\n",
       "    </tr>\n",
       "    <tr>\n",
       "      <th>15</th>\n",
       "      <td>12799</td>\n",
       "      <td>2013</td>\n",
       "      <td>88257</td>\n",
       "      <td>Cumming</td>\n",
       "      <td>GA</td>\n",
       "      <td>Acura</td>\n",
       "      <td>ILX5-Speed</td>\n",
       "    </tr>\n",
       "    <tr>\n",
       "      <th>16</th>\n",
       "      <td>12888</td>\n",
       "      <td>2014</td>\n",
       "      <td>67101</td>\n",
       "      <td>Dallas</td>\n",
       "      <td>TX</td>\n",
       "      <td>Acura</td>\n",
       "      <td>ILX5-Speed</td>\n",
       "    </tr>\n",
       "    <tr>\n",
       "      <th>17</th>\n",
       "      <td>12930</td>\n",
       "      <td>2014</td>\n",
       "      <td>61189</td>\n",
       "      <td>Littleton</td>\n",
       "      <td>CO</td>\n",
       "      <td>Acura</td>\n",
       "      <td>ILX5-Speed</td>\n",
       "    </tr>\n",
       "    <tr>\n",
       "      <th>18</th>\n",
       "      <td>12983</td>\n",
       "      <td>2013</td>\n",
       "      <td>98298</td>\n",
       "      <td>Madison</td>\n",
       "      <td>WI</td>\n",
       "      <td>Acura</td>\n",
       "      <td>ILX5-Speed</td>\n",
       "    </tr>\n",
       "    <tr>\n",
       "      <th>19</th>\n",
       "      <td>12995</td>\n",
       "      <td>2013</td>\n",
       "      <td>50162</td>\n",
       "      <td>Morrow</td>\n",
       "      <td>GA</td>\n",
       "      <td>Acura</td>\n",
       "      <td>ILX5-Speed</td>\n",
       "    </tr>\n",
       "    <tr>\n",
       "      <th>20</th>\n",
       "      <td>12995</td>\n",
       "      <td>2013</td>\n",
       "      <td>76713</td>\n",
       "      <td>Bethlehem</td>\n",
       "      <td>PA</td>\n",
       "      <td>Acura</td>\n",
       "      <td>ILX5-Speed</td>\n",
       "    </tr>\n",
       "    <tr>\n",
       "      <th>21</th>\n",
       "      <td>12995</td>\n",
       "      <td>2013</td>\n",
       "      <td>114012</td>\n",
       "      <td>Bakersfield</td>\n",
       "      <td>CA</td>\n",
       "      <td>Acura</td>\n",
       "      <td>ILX5-Speed</td>\n",
       "    </tr>\n",
       "    <tr>\n",
       "      <th>22</th>\n",
       "      <td>12999</td>\n",
       "      <td>2013</td>\n",
       "      <td>88110</td>\n",
       "      <td>Glen Burnie</td>\n",
       "      <td>MD</td>\n",
       "      <td>Acura</td>\n",
       "      <td>ILX5-Speed</td>\n",
       "    </tr>\n",
       "    <tr>\n",
       "      <th>23</th>\n",
       "      <td>12999</td>\n",
       "      <td>2013</td>\n",
       "      <td>90420</td>\n",
       "      <td>Longmont</td>\n",
       "      <td>CO</td>\n",
       "      <td>Acura</td>\n",
       "      <td>ILX5-Speed</td>\n",
       "    </tr>\n",
       "    <tr>\n",
       "      <th>24</th>\n",
       "      <td>13085</td>\n",
       "      <td>2013</td>\n",
       "      <td>104301</td>\n",
       "      <td>Kernersville</td>\n",
       "      <td>NC</td>\n",
       "      <td>Acura</td>\n",
       "      <td>ILX5-Speed</td>\n",
       "    </tr>\n",
       "    <tr>\n",
       "      <th>25</th>\n",
       "      <td>13290</td>\n",
       "      <td>2013</td>\n",
       "      <td>62478</td>\n",
       "      <td>Miami</td>\n",
       "      <td>FL</td>\n",
       "      <td>Acura</td>\n",
       "      <td>ILX5-Speed</td>\n",
       "    </tr>\n",
       "    <tr>\n",
       "      <th>26</th>\n",
       "      <td>13495</td>\n",
       "      <td>2013</td>\n",
       "      <td>63147</td>\n",
       "      <td>Midway City</td>\n",
       "      <td>CA</td>\n",
       "      <td>Acura</td>\n",
       "      <td>ILX5-Speed</td>\n",
       "    </tr>\n",
       "    <tr>\n",
       "      <th>27</th>\n",
       "      <td>13499</td>\n",
       "      <td>2014</td>\n",
       "      <td>35037</td>\n",
       "      <td>West Covina</td>\n",
       "      <td>CA</td>\n",
       "      <td>Acura</td>\n",
       "      <td>ILX5-Speed</td>\n",
       "    </tr>\n",
       "    <tr>\n",
       "      <th>28</th>\n",
       "      <td>13499</td>\n",
       "      <td>2014</td>\n",
       "      <td>45355</td>\n",
       "      <td>Montclair</td>\n",
       "      <td>CA</td>\n",
       "      <td>Acura</td>\n",
       "      <td>ILX5-Speed</td>\n",
       "    </tr>\n",
       "    <tr>\n",
       "      <th>29</th>\n",
       "      <td>13695</td>\n",
       "      <td>2013</td>\n",
       "      <td>45213</td>\n",
       "      <td>Doral</td>\n",
       "      <td>FL</td>\n",
       "      <td>Acura</td>\n",
       "      <td>ILX5-Speed</td>\n",
       "    </tr>\n",
       "    <tr>\n",
       "      <th>...</th>\n",
       "      <td>...</td>\n",
       "      <td>...</td>\n",
       "      <td>...</td>\n",
       "      <td>...</td>\n",
       "      <td>...</td>\n",
       "      <td>...</td>\n",
       "      <td>...</td>\n",
       "    </tr>\n",
       "    <tr>\n",
       "      <th>770703</th>\n",
       "      <td>7999</td>\n",
       "      <td>2014</td>\n",
       "      <td>10068</td>\n",
       "      <td>Peoria</td>\n",
       "      <td>AZ</td>\n",
       "      <td>smart</td>\n",
       "      <td>fortwopure</td>\n",
       "    </tr>\n",
       "    <tr>\n",
       "      <th>770704</th>\n",
       "      <td>8000</td>\n",
       "      <td>2014</td>\n",
       "      <td>10964</td>\n",
       "      <td>Louisville</td>\n",
       "      <td>KY</td>\n",
       "      <td>smart</td>\n",
       "      <td>fortwopure</td>\n",
       "    </tr>\n",
       "    <tr>\n",
       "      <th>770705</th>\n",
       "      <td>8000</td>\n",
       "      <td>2014</td>\n",
       "      <td>34255</td>\n",
       "      <td>Louisville</td>\n",
       "      <td>KY</td>\n",
       "      <td>smart</td>\n",
       "      <td>fortwopure</td>\n",
       "    </tr>\n",
       "    <tr>\n",
       "      <th>770706</th>\n",
       "      <td>8250</td>\n",
       "      <td>2014</td>\n",
       "      <td>23647</td>\n",
       "      <td>Louisville</td>\n",
       "      <td>KY</td>\n",
       "      <td>smart</td>\n",
       "      <td>fortwopure</td>\n",
       "    </tr>\n",
       "    <tr>\n",
       "      <th>770707</th>\n",
       "      <td>8477</td>\n",
       "      <td>2013</td>\n",
       "      <td>16730</td>\n",
       "      <td>Denton</td>\n",
       "      <td>TX</td>\n",
       "      <td>smart</td>\n",
       "      <td>fortwopure</td>\n",
       "    </tr>\n",
       "    <tr>\n",
       "      <th>770708</th>\n",
       "      <td>8595</td>\n",
       "      <td>2014</td>\n",
       "      <td>25462</td>\n",
       "      <td>Hillsboro</td>\n",
       "      <td>OR</td>\n",
       "      <td>smart</td>\n",
       "      <td>fortwopure</td>\n",
       "    </tr>\n",
       "    <tr>\n",
       "      <th>770709</th>\n",
       "      <td>8750</td>\n",
       "      <td>2014</td>\n",
       "      <td>4503</td>\n",
       "      <td>Louisville</td>\n",
       "      <td>KY</td>\n",
       "      <td>smart</td>\n",
       "      <td>fortwopure</td>\n",
       "    </tr>\n",
       "    <tr>\n",
       "      <th>770710</th>\n",
       "      <td>8988</td>\n",
       "      <td>2014</td>\n",
       "      <td>9457</td>\n",
       "      <td>SUGAR LAND</td>\n",
       "      <td>TX</td>\n",
       "      <td>smart</td>\n",
       "      <td>fortwopure</td>\n",
       "    </tr>\n",
       "    <tr>\n",
       "      <th>770711</th>\n",
       "      <td>8995</td>\n",
       "      <td>2013</td>\n",
       "      <td>25627</td>\n",
       "      <td>Honolulu</td>\n",
       "      <td>HI</td>\n",
       "      <td>smart</td>\n",
       "      <td>fortwopure</td>\n",
       "    </tr>\n",
       "    <tr>\n",
       "      <th>770712</th>\n",
       "      <td>8995</td>\n",
       "      <td>2013</td>\n",
       "      <td>31950</td>\n",
       "      <td>Honolulu</td>\n",
       "      <td>HI</td>\n",
       "      <td>smart</td>\n",
       "      <td>fortwopure</td>\n",
       "    </tr>\n",
       "    <tr>\n",
       "      <th>770713</th>\n",
       "      <td>8995</td>\n",
       "      <td>2013</td>\n",
       "      <td>35022</td>\n",
       "      <td>Honolulu</td>\n",
       "      <td>HI</td>\n",
       "      <td>smart</td>\n",
       "      <td>fortwopure</td>\n",
       "    </tr>\n",
       "    <tr>\n",
       "      <th>770714</th>\n",
       "      <td>8995</td>\n",
       "      <td>2013</td>\n",
       "      <td>38308</td>\n",
       "      <td>Honolulu</td>\n",
       "      <td>HI</td>\n",
       "      <td>smart</td>\n",
       "      <td>fortwopure</td>\n",
       "    </tr>\n",
       "    <tr>\n",
       "      <th>770715</th>\n",
       "      <td>8995</td>\n",
       "      <td>2013</td>\n",
       "      <td>39489</td>\n",
       "      <td>Honolulu</td>\n",
       "      <td>HI</td>\n",
       "      <td>smart</td>\n",
       "      <td>fortwopure</td>\n",
       "    </tr>\n",
       "    <tr>\n",
       "      <th>770716</th>\n",
       "      <td>8995</td>\n",
       "      <td>2013</td>\n",
       "      <td>39750</td>\n",
       "      <td>Honolulu</td>\n",
       "      <td>HI</td>\n",
       "      <td>smart</td>\n",
       "      <td>fortwopure</td>\n",
       "    </tr>\n",
       "    <tr>\n",
       "      <th>770717</th>\n",
       "      <td>8995</td>\n",
       "      <td>2014</td>\n",
       "      <td>19145</td>\n",
       "      <td>SEATTLE</td>\n",
       "      <td>WA</td>\n",
       "      <td>smart</td>\n",
       "      <td>fortwopure</td>\n",
       "    </tr>\n",
       "    <tr>\n",
       "      <th>770718</th>\n",
       "      <td>8995</td>\n",
       "      <td>2014</td>\n",
       "      <td>13679</td>\n",
       "      <td>SEATTLE</td>\n",
       "      <td>WA</td>\n",
       "      <td>smart</td>\n",
       "      <td>fortwopure</td>\n",
       "    </tr>\n",
       "    <tr>\n",
       "      <th>770719</th>\n",
       "      <td>8995</td>\n",
       "      <td>2014</td>\n",
       "      <td>13503</td>\n",
       "      <td>Honolulu</td>\n",
       "      <td>HI</td>\n",
       "      <td>smart</td>\n",
       "      <td>fortwopure</td>\n",
       "    </tr>\n",
       "    <tr>\n",
       "      <th>770720</th>\n",
       "      <td>8995</td>\n",
       "      <td>2014</td>\n",
       "      <td>27698</td>\n",
       "      <td>SEATTLE</td>\n",
       "      <td>WA</td>\n",
       "      <td>smart</td>\n",
       "      <td>fortwopure</td>\n",
       "    </tr>\n",
       "    <tr>\n",
       "      <th>770721</th>\n",
       "      <td>8995</td>\n",
       "      <td>2014</td>\n",
       "      <td>28035</td>\n",
       "      <td>SEATTLE</td>\n",
       "      <td>WA</td>\n",
       "      <td>smart</td>\n",
       "      <td>fortwopure</td>\n",
       "    </tr>\n",
       "    <tr>\n",
       "      <th>770722</th>\n",
       "      <td>8995</td>\n",
       "      <td>2014</td>\n",
       "      <td>32906</td>\n",
       "      <td>SEATTLE</td>\n",
       "      <td>WA</td>\n",
       "      <td>smart</td>\n",
       "      <td>fortwopure</td>\n",
       "    </tr>\n",
       "    <tr>\n",
       "      <th>770723</th>\n",
       "      <td>8995</td>\n",
       "      <td>2014</td>\n",
       "      <td>25498</td>\n",
       "      <td>Honolulu</td>\n",
       "      <td>HI</td>\n",
       "      <td>smart</td>\n",
       "      <td>fortwopure</td>\n",
       "    </tr>\n",
       "    <tr>\n",
       "      <th>770724</th>\n",
       "      <td>9113</td>\n",
       "      <td>2013</td>\n",
       "      <td>20828</td>\n",
       "      <td>Tampa</td>\n",
       "      <td>FL</td>\n",
       "      <td>smart</td>\n",
       "      <td>fortwopure</td>\n",
       "    </tr>\n",
       "    <tr>\n",
       "      <th>770725</th>\n",
       "      <td>9178</td>\n",
       "      <td>2014</td>\n",
       "      <td>11209</td>\n",
       "      <td>Turnwater</td>\n",
       "      <td>WA</td>\n",
       "      <td>smart</td>\n",
       "      <td>fortwopure</td>\n",
       "    </tr>\n",
       "    <tr>\n",
       "      <th>770726</th>\n",
       "      <td>9195</td>\n",
       "      <td>2014</td>\n",
       "      <td>25169</td>\n",
       "      <td>Plano</td>\n",
       "      <td>TX</td>\n",
       "      <td>smart</td>\n",
       "      <td>fortwopure</td>\n",
       "    </tr>\n",
       "    <tr>\n",
       "      <th>770727</th>\n",
       "      <td>9488</td>\n",
       "      <td>2014</td>\n",
       "      <td>9762</td>\n",
       "      <td>Englewood</td>\n",
       "      <td>NJ</td>\n",
       "      <td>smart</td>\n",
       "      <td>fortwopure</td>\n",
       "    </tr>\n",
       "    <tr>\n",
       "      <th>770728</th>\n",
       "      <td>9995</td>\n",
       "      <td>2014</td>\n",
       "      <td>6384</td>\n",
       "      <td>SEATTLE</td>\n",
       "      <td>WA</td>\n",
       "      <td>smart</td>\n",
       "      <td>fortwopure</td>\n",
       "    </tr>\n",
       "    <tr>\n",
       "      <th>770729</th>\n",
       "      <td>9995</td>\n",
       "      <td>2014</td>\n",
       "      <td>18973</td>\n",
       "      <td>SEATTLE</td>\n",
       "      <td>WA</td>\n",
       "      <td>smart</td>\n",
       "      <td>fortwopure</td>\n",
       "    </tr>\n",
       "    <tr>\n",
       "      <th>770730</th>\n",
       "      <td>10995</td>\n",
       "      <td>2013</td>\n",
       "      <td>27521</td>\n",
       "      <td>Honolulu</td>\n",
       "      <td>HI</td>\n",
       "      <td>smart</td>\n",
       "      <td>fortwopure</td>\n",
       "    </tr>\n",
       "    <tr>\n",
       "      <th>770731</th>\n",
       "      <td>12999</td>\n",
       "      <td>2014</td>\n",
       "      <td>27221</td>\n",
       "      <td>Vacaville</td>\n",
       "      <td>CA</td>\n",
       "      <td>smart</td>\n",
       "      <td>fortwopure</td>\n",
       "    </tr>\n",
       "    <tr>\n",
       "      <th>770732</th>\n",
       "      <td>14991</td>\n",
       "      <td>2017</td>\n",
       "      <td>4916</td>\n",
       "      <td>Fort Worth</td>\n",
       "      <td>TX</td>\n",
       "      <td>smart</td>\n",
       "      <td>fortwopure</td>\n",
       "    </tr>\n",
       "  </tbody>\n",
       "</table>\n",
       "<p>770733 rows × 7 columns</p>\n",
       "</div>"
      ],
      "text/plain": [
       "        Price  Year  Mileage              City State   Make       Model\n",
       "0       15490  2015    40131          Kennesaw    GA  Acura      ILX4dr\n",
       "1        9995  2013    63887           El Paso    TX  Acura  ILX5-Speed\n",
       "2       10790  2013   111751    Fredericksburg    VA  Acura  ILX5-Speed\n",
       "3       10888  2013    19606  Long Island City    NY  Acura  ILX5-Speed\n",
       "4       10999  2014    39922           Windsor    CO  Acura  ILX5-Speed\n",
       "5       11300  2013    90585        Westampton    NJ  Acura  ILX5-Speed\n",
       "6       11700  2013    87748      Wilkes-Barre    PA  Acura  ILX5-Speed\n",
       "7       11890  2014    77898         Greatneck    NY  Acura  ILX5-Speed\n",
       "8       11982  2013    69027          Lakewood    NJ  Acura  ILX5-Speed\n",
       "9       11995  2013   104111        Louisville    KY  Acura  ILX5-Speed\n",
       "10      11995  2014    76722      Hackettstown    NJ  Acura  ILX5-Speed\n",
       "11      12000  2013    40527  Long Island City    NY  Acura  ILX5-Speed\n",
       "12      12491  2014    92106          Elmhurst    IL  Acura  ILX5-Speed\n",
       "13      12558  2013    73003          Chamblee    GA  Acura  ILX5-Speed\n",
       "14      12591  2014    88107          Timonium    MD  Acura  ILX5-Speed\n",
       "15      12799  2013    88257           Cumming    GA  Acura  ILX5-Speed\n",
       "16      12888  2014    67101            Dallas    TX  Acura  ILX5-Speed\n",
       "17      12930  2014    61189         Littleton    CO  Acura  ILX5-Speed\n",
       "18      12983  2013    98298           Madison    WI  Acura  ILX5-Speed\n",
       "19      12995  2013    50162            Morrow    GA  Acura  ILX5-Speed\n",
       "20      12995  2013    76713         Bethlehem    PA  Acura  ILX5-Speed\n",
       "21      12995  2013   114012       Bakersfield    CA  Acura  ILX5-Speed\n",
       "22      12999  2013    88110       Glen Burnie    MD  Acura  ILX5-Speed\n",
       "23      12999  2013    90420          Longmont    CO  Acura  ILX5-Speed\n",
       "24      13085  2013   104301      Kernersville    NC  Acura  ILX5-Speed\n",
       "25      13290  2013    62478             Miami    FL  Acura  ILX5-Speed\n",
       "26      13495  2013    63147       Midway City    CA  Acura  ILX5-Speed\n",
       "27      13499  2014    35037       West Covina    CA  Acura  ILX5-Speed\n",
       "28      13499  2014    45355         Montclair    CA  Acura  ILX5-Speed\n",
       "29      13695  2013    45213             Doral    FL  Acura  ILX5-Speed\n",
       "...       ...   ...      ...               ...   ...    ...         ...\n",
       "770703   7999  2014    10068            Peoria    AZ  smart  fortwopure\n",
       "770704   8000  2014    10964        Louisville    KY  smart  fortwopure\n",
       "770705   8000  2014    34255        Louisville    KY  smart  fortwopure\n",
       "770706   8250  2014    23647        Louisville    KY  smart  fortwopure\n",
       "770707   8477  2013    16730            Denton    TX  smart  fortwopure\n",
       "770708   8595  2014    25462         Hillsboro    OR  smart  fortwopure\n",
       "770709   8750  2014     4503        Louisville    KY  smart  fortwopure\n",
       "770710   8988  2014     9457        SUGAR LAND    TX  smart  fortwopure\n",
       "770711   8995  2013    25627          Honolulu    HI  smart  fortwopure\n",
       "770712   8995  2013    31950          Honolulu    HI  smart  fortwopure\n",
       "770713   8995  2013    35022          Honolulu    HI  smart  fortwopure\n",
       "770714   8995  2013    38308          Honolulu    HI  smart  fortwopure\n",
       "770715   8995  2013    39489          Honolulu    HI  smart  fortwopure\n",
       "770716   8995  2013    39750          Honolulu    HI  smart  fortwopure\n",
       "770717   8995  2014    19145           SEATTLE    WA  smart  fortwopure\n",
       "770718   8995  2014    13679           SEATTLE    WA  smart  fortwopure\n",
       "770719   8995  2014    13503          Honolulu    HI  smart  fortwopure\n",
       "770720   8995  2014    27698           SEATTLE    WA  smart  fortwopure\n",
       "770721   8995  2014    28035           SEATTLE    WA  smart  fortwopure\n",
       "770722   8995  2014    32906           SEATTLE    WA  smart  fortwopure\n",
       "770723   8995  2014    25498          Honolulu    HI  smart  fortwopure\n",
       "770724   9113  2013    20828             Tampa    FL  smart  fortwopure\n",
       "770725   9178  2014    11209         Turnwater    WA  smart  fortwopure\n",
       "770726   9195  2014    25169             Plano    TX  smart  fortwopure\n",
       "770727   9488  2014     9762         Englewood    NJ  smart  fortwopure\n",
       "770728   9995  2014     6384           SEATTLE    WA  smart  fortwopure\n",
       "770729   9995  2014    18973           SEATTLE    WA  smart  fortwopure\n",
       "770730  10995  2013    27521          Honolulu    HI  smart  fortwopure\n",
       "770731  12999  2014    27221         Vacaville    CA  smart  fortwopure\n",
       "770732  14991  2017     4916        Fort Worth    TX  smart  fortwopure\n",
       "\n",
       "[770733 rows x 7 columns]"
      ]
     },
     "execution_count": 55,
     "metadata": {},
     "output_type": "execute_result"
    }
   ],
   "source": [
    "fim"
   ]
  }
 ],
 "metadata": {
  "kernelspec": {
   "display_name": "Python 3",
   "language": "python",
   "name": "python3"
  },
  "language_info": {
   "codemirror_mode": {
    "name": "ipython",
    "version": 3
   },
   "file_extension": ".py",
   "mimetype": "text/x-python",
   "name": "python",
   "nbconvert_exporter": "python",
   "pygments_lexer": "ipython3",
   "version": "3.7.0"
  }
 },
 "nbformat": 4,
 "nbformat_minor": 2
}
