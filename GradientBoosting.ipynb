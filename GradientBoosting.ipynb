{
 "cells": [
  {
   "cell_type": "code",
   "execution_count": 2,
   "metadata": {},
   "outputs": [
    {
     "name": "stderr",
     "output_type": "stream",
     "text": [
      "C:\\Users\\gabri\\Anaconda3\\lib\\site-packages\\sklearn\\ensemble\\weight_boosting.py:29: DeprecationWarning: numpy.core.umath_tests is an internal NumPy module and should not be imported. It will be removed in a future NumPy release.\n",
      "  from numpy.core.umath_tests import inner1d\n"
     ]
    }
   ],
   "source": [
    "from prepatingDataComOutliers import preparing_data # read data\n",
    "from sklearn import preprocessing\n",
    "from sklearn.model_selection import train_test_split\n",
    "from math import sqrt # RMSE\n",
    "from sklearn.metrics import mean_squared_error # error metric\n",
    "from sklearn.model_selection import cross_val_score, cross_val_predict\n",
    "import matplotlib.pyplot as plt\n",
    "from sklearn.model_selection import KFold # import KFold\n",
    "import numpy as np\n",
    "# model\n",
    "from sklearn.ensemble import GradientBoostingRegressor\n"
   ]
  },
  {
   "cell_type": "code",
   "execution_count": 3,
   "metadata": {},
   "outputs": [],
   "source": [
    "X,y=preparing_data()\n",
    "X_scaled = preprocessing.scale(X)\n",
    "X_train, X_test, y_train, y_test = train_test_split(X_scaled, y, test_size=0.2, random_state=42)"
   ]
  },
  {
   "cell_type": "code",
   "execution_count": 4,
   "metadata": {},
   "outputs": [],
   "source": [
    "def rmse(model, y, x):\n",
    "    return sqrt(mean_squared_error(y, model.predict(x)))"
   ]
  },
  {
   "cell_type": "code",
   "execution_count": 5,
   "metadata": {},
   "outputs": [],
   "source": [
    "est = GradientBoostingRegressor(n_estimators=100, learning_rate=0.1, max_depth=1, random_state=0, loss='ls')\n",
    "est.fit(X_train, y_train)\n",
    "predictions = est.predict(X_test)"
   ]
  },
  {
   "cell_type": "code",
   "execution_count": 6,
   "metadata": {},
   "outputs": [
    {
     "data": {
      "text/plain": [
       "[26988,\n",
       " 19990,\n",
       " 9890,\n",
       " 22588,\n",
       " 5664,\n",
       " 25987,\n",
       " 7998,\n",
       " 19698,\n",
       " 5990,\n",
       " 5995,\n",
       " 13888,\n",
       " 16543,\n",
       " 63500,\n",
       " 15950,\n",
       " 15599,\n",
       " 15000,\n",
       " 17933,\n",
       " 9747,\n",
       " 24992,\n",
       " 12450,\n",
       " 48999,\n",
       " 23999,\n",
       " 18490,\n",
       " 7998,\n",
       " 22975,\n",
       " 4950,\n",
       " 21815,\n",
       " 32926,\n",
       " 14488,\n",
       " 9993,\n",
       " 10500,\n",
       " 12680,\n",
       " 14900,\n",
       " 56900,\n",
       " 3977,\n",
       " 8995,\n",
       " 16495,\n",
       " 17999,\n",
       " 4500,\n",
       " 16733,\n",
       " 24088,\n",
       " 25900,\n",
       " 22458,\n",
       " 15195,\n",
       " 9995,\n",
       " 13998,\n",
       " 16495,\n",
       " 43905,\n",
       " 12995,\n",
       " 29995]"
      ]
     },
     "execution_count": 6,
     "metadata": {},
     "output_type": "execute_result"
    }
   ],
   "source": [
    "y_test[152094:152144].tolist()"
   ]
  },
  {
   "cell_type": "code",
   "execution_count": 7,
   "metadata": {},
   "outputs": [
    {
     "data": {
      "text/plain": [
       "[23627.748836803894,\n",
       " 22256.57004568025,\n",
       " 10904.198168809076,\n",
       " 23235.60175934139,\n",
       " 12300.002891705488,\n",
       " 20326.67524683731,\n",
       " 15488.679689869175,\n",
       " 21874.486774523997,\n",
       " 13592.492262652748,\n",
       " 10700.074276215637,\n",
       " 30211.153229316213,\n",
       " 15081.24858305288,\n",
       " 31772.49312424931,\n",
       " 21670.77068273571,\n",
       " 25238.48853229883,\n",
       " 18516.48982481364,\n",
       " 25062.139246033275,\n",
       " 11080.138939639928,\n",
       " 26069.56311432875,\n",
       " 21658.803319207436,\n",
       " 27383.348334775874,\n",
       " 22822.589072039933,\n",
       " 17112.450804559532,\n",
       " 13252.76490629388,\n",
       " 31772.49312424931,\n",
       " 11768.671591485614,\n",
       " 25062.139246033275,\n",
       " 31546.15106054235,\n",
       " 19058.15183597064,\n",
       " 10950.908634164867,\n",
       " 11124.857819612607,\n",
       " 19201.55008432765,\n",
       " 19344.28553714594,\n",
       " 22994.495221549892,\n",
       " 8753.992590263217,\n",
       " 14368.077024511205,\n",
       " 15150.51013549423,\n",
       " 20776.563705121505,\n",
       " 12300.002891705488,\n",
       " 24011.18652119985,\n",
       " 20119.8702990044,\n",
       " 30687.959255177062,\n",
       " 31527.735959224694,\n",
       " 20760.45462150584,\n",
       " 18005.46615809471,\n",
       " 26801.188038179214,\n",
       " 21535.716173126093,\n",
       " 22107.840943586507,\n",
       " 20321.803225346335,\n",
       " 22481.241083642122]"
      ]
     },
     "execution_count": 7,
     "metadata": {},
     "output_type": "execute_result"
    }
   ],
   "source": [
    "predictions[152094:152144].tolist()"
   ]
  },
  {
   "cell_type": "code",
   "execution_count": 8,
   "metadata": {},
   "outputs": [
    {
     "data": {
      "text/plain": [
       "11610.313505791"
      ]
     },
     "execution_count": 8,
     "metadata": {},
     "output_type": "execute_result"
    }
   ],
   "source": [
    "rmse(est, y_train, X_train)"
   ]
  },
  {
   "cell_type": "code",
   "execution_count": 9,
   "metadata": {},
   "outputs": [
    {
     "data": {
      "text/plain": [
       "11576.743562558253"
      ]
     },
     "execution_count": 9,
     "metadata": {},
     "output_type": "execute_result"
    }
   ],
   "source": [
    "rmse(est, y_test, X_test)"
   ]
  },
  {
   "cell_type": "code",
   "execution_count": 10,
   "metadata": {},
   "outputs": [
    {
     "name": "stdout",
     "output_type": "stream",
     "text": [
      "KFold(n_splits=10, random_state=None, shuffle=False)\n"
     ]
    }
   ],
   "source": [
    "kf = KFold(n_splits=10) # Define the split - into 5 folds \n",
    "kf.get_n_splits(X_scaled) # returns the number of splitting iterations in the cross-validator\n",
    "KFold(n_splits=10, random_state=None, shuffle=False)\n",
    "print(kf) "
   ]
  },
  {
   "cell_type": "code",
   "execution_count": 11,
   "metadata": {},
   "outputs": [],
   "source": [
    "list_rmse_train = []\n",
    "list_rmse_test = []\n",
    "scores_train = []\n",
    "for train_index, test_index in kf.split(X):\n",
    "    X_train, X_test = X.iloc[train_index], X.iloc[test_index]\n",
    "    y_train, y_test = y.iloc[train_index], y.iloc[test_index]\n",
    "    est = GradientBoostingRegressor(n_estimators=100, learning_rate=0.1, max_depth=1, random_state=0, loss='ls')\n",
    "    est.fit(X_train, y_train)\n",
    "    list_rmse_train.append(rmse(est, y_train, X_train))\n",
    "    list_rmse_test.append(rmse(est, y_test, X_test))\n"
   ]
  },
  {
   "cell_type": "code",
   "execution_count": 12,
   "metadata": {},
   "outputs": [
    {
     "data": {
      "text/plain": [
       "379.35629438571056"
      ]
     },
     "execution_count": 12,
     "metadata": {},
     "output_type": "execute_result"
    }
   ],
   "source": [
    "np.std(list_rmse_train)"
   ]
  },
  {
   "cell_type": "code",
   "execution_count": 13,
   "metadata": {},
   "outputs": [
    {
     "data": {
      "text/plain": [
       "3291.046955828566"
      ]
     },
     "execution_count": 13,
     "metadata": {},
     "output_type": "execute_result"
    }
   ],
   "source": [
    "np.std(list_rmse_test)"
   ]
  },
  {
   "cell_type": "code",
   "execution_count": 14,
   "metadata": {},
   "outputs": [
    {
     "data": {
      "text/plain": [
       "11542.58073569089"
      ]
     },
     "execution_count": 14,
     "metadata": {},
     "output_type": "execute_result"
    }
   ],
   "source": [
    "np.mean(list_rmse_train)"
   ]
  },
  {
   "cell_type": "code",
   "execution_count": 15,
   "metadata": {},
   "outputs": [
    {
     "data": {
      "text/plain": [
       "11988.401336321664"
      ]
     },
     "execution_count": 15,
     "metadata": {},
     "output_type": "execute_result"
    }
   ],
   "source": [
    "np.mean(list_rmse_test)"
   ]
  }
 ],
 "metadata": {
  "kernelspec": {
   "display_name": "Python 3",
   "language": "python",
   "name": "python3"
  },
  "language_info": {
   "codemirror_mode": {
    "name": "ipython",
    "version": 3
   },
   "file_extension": ".py",
   "mimetype": "text/x-python",
   "name": "python",
   "nbconvert_exporter": "python",
   "pygments_lexer": "ipython3",
   "version": "3.7.0"
  }
 },
 "nbformat": 4,
 "nbformat_minor": 2
}
